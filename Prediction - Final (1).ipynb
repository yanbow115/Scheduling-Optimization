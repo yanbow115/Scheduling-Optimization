{
 "cells": [
  {
   "cell_type": "code",
   "execution_count": 1,
   "id": "79edfeea",
   "metadata": {},
   "outputs": [],
   "source": [
    "import numpy as np\n",
    "import pandas as pd\n",
    "import datetime\n",
    "import matplotlib.pyplot as plt\n",
    "import seaborn as sns\n",
    "import random"
   ]
  },
  {
   "cell_type": "code",
   "execution_count": 2,
   "id": "6ee80041",
   "metadata": {},
   "outputs": [],
   "source": [
    "data = pd.read_excel('2020_DD_NWM_OFDA_clinics.xlsx')"
   ]
  },
  {
   "cell_type": "code",
   "execution_count": 3,
   "id": "f6e14b23",
   "metadata": {},
   "outputs": [
    {
     "data": {
      "text/html": [
       "<div>\n",
       "<style scoped>\n",
       "    .dataframe tbody tr th:only-of-type {\n",
       "        vertical-align: middle;\n",
       "    }\n",
       "\n",
       "    .dataframe tbody tr th {\n",
       "        vertical-align: top;\n",
       "    }\n",
       "\n",
       "    .dataframe thead th {\n",
       "        text-align: right;\n",
       "    }\n",
       "</style>\n",
       "<table border=\"1\" class=\"dataframe\">\n",
       "  <thead>\n",
       "    <tr style=\"text-align: right;\">\n",
       "      <th></th>\n",
       "      <th>ApptStartUTCDateTime</th>\n",
       "      <th>ApptEndUTCDateTime</th>\n",
       "      <th>TIME_HOUR</th>\n",
       "      <th>TIME_MINUTE</th>\n",
       "      <th>APPTID</th>\n",
       "      <th>LateFlag</th>\n",
       "      <th>BROKENREASON</th>\n",
       "      <th>PATID</th>\n",
       "      <th>APPTDATE</th>\n",
       "      <th>APPTLEN</th>\n",
       "      <th>AMOUNT</th>\n",
       "      <th>ClinicName</th>\n",
       "      <th>APPTREASON</th>\n",
       "      <th>ProviderName</th>\n",
       "    </tr>\n",
       "  </thead>\n",
       "  <tbody>\n",
       "    <tr>\n",
       "      <th>0</th>\n",
       "      <td>2020-01-02 13:00:00</td>\n",
       "      <td>2020-01-02 14:00:00</td>\n",
       "      <td>7</td>\n",
       "      <td>0</td>\n",
       "      <td>1406221</td>\n",
       "      <td>0.0</td>\n",
       "      <td>NaN</td>\n",
       "      <td>1963-07-18 00:00:00</td>\n",
       "      <td>2020-01-02</td>\n",
       "      <td>60</td>\n",
       "      <td>10100</td>\n",
       "      <td>NWM</td>\n",
       "      <td>PeriodicX, ProphyAd, FMP, OralHygIn</td>\n",
       "      <td>10HYMODEA</td>\n",
       "    </tr>\n",
       "    <tr>\n",
       "      <th>1</th>\n",
       "      <td>2020-01-02 13:00:00</td>\n",
       "      <td>2020-01-02 14:00:00</td>\n",
       "      <td>7</td>\n",
       "      <td>0</td>\n",
       "      <td>1456438</td>\n",
       "      <td>0.0</td>\n",
       "      <td>NaN</td>\n",
       "      <td>1050043</td>\n",
       "      <td>2020-01-02</td>\n",
       "      <td>60</td>\n",
       "      <td>41200</td>\n",
       "      <td>NWM</td>\n",
       "      <td>PrSclRtPl-LL, PrSclRtPl-UL, GingIrrQd-LL, Ging...</td>\n",
       "      <td>10HYIARIAS</td>\n",
       "    </tr>\n",
       "    <tr>\n",
       "      <th>2</th>\n",
       "      <td>2020-01-02 14:00:00</td>\n",
       "      <td>2020-01-02 15:00:00</td>\n",
       "      <td>8</td>\n",
       "      <td>0</td>\n",
       "      <td>1536678</td>\n",
       "      <td>0.0</td>\n",
       "      <td>NaN</td>\n",
       "      <td>1815</td>\n",
       "      <td>2020-01-02</td>\n",
       "      <td>60</td>\n",
       "      <td>21600</td>\n",
       "      <td>DD</td>\n",
       "      <td>BORGA</td>\n",
       "      <td>14HYHPATEL</td>\n",
       "    </tr>\n",
       "    <tr>\n",
       "      <th>3</th>\n",
       "      <td>2020-01-02 14:00:00</td>\n",
       "      <td>2020-01-02 15:00:00</td>\n",
       "      <td>8</td>\n",
       "      <td>0</td>\n",
       "      <td>1181395</td>\n",
       "      <td>0.0</td>\n",
       "      <td>Late Cancellation</td>\n",
       "      <td>6306</td>\n",
       "      <td>2020-01-02</td>\n",
       "      <td>60</td>\n",
       "      <td>124820</td>\n",
       "      <td>NWM</td>\n",
       "      <td>LimitedEx, CrwnPrCrS#30</td>\n",
       "      <td>10DRLHARBR</td>\n",
       "    </tr>\n",
       "    <tr>\n",
       "      <th>4</th>\n",
       "      <td>2020-01-02 14:00:00</td>\n",
       "      <td>2020-01-02 15:00:00</td>\n",
       "      <td>8</td>\n",
       "      <td>0</td>\n",
       "      <td>1290336</td>\n",
       "      <td>0.0</td>\n",
       "      <td>No Show</td>\n",
       "      <td>17892</td>\n",
       "      <td>2020-01-02</td>\n",
       "      <td>60</td>\n",
       "      <td>26900</td>\n",
       "      <td>DD</td>\n",
       "      <td>PALSIS              NON INS $175</td>\n",
       "      <td>14HYMSANCH</td>\n",
       "    </tr>\n",
       "  </tbody>\n",
       "</table>\n",
       "</div>"
      ],
      "text/plain": [
       "  ApptStartUTCDateTime  ApptEndUTCDateTime  TIME_HOUR  TIME_MINUTE   APPTID  \\\n",
       "0  2020-01-02 13:00:00 2020-01-02 14:00:00          7            0  1406221   \n",
       "1  2020-01-02 13:00:00 2020-01-02 14:00:00          7            0  1456438   \n",
       "2  2020-01-02 14:00:00 2020-01-02 15:00:00          8            0  1536678   \n",
       "3  2020-01-02 14:00:00 2020-01-02 15:00:00          8            0  1181395   \n",
       "4  2020-01-02 14:00:00 2020-01-02 15:00:00          8            0  1290336   \n",
       "\n",
       "   LateFlag       BROKENREASON                PATID   APPTDATE  APPTLEN  \\\n",
       "0       0.0                NaN  1963-07-18 00:00:00 2020-01-02       60   \n",
       "1       0.0                NaN              1050043 2020-01-02       60   \n",
       "2       0.0                NaN                 1815 2020-01-02       60   \n",
       "3       0.0  Late Cancellation                 6306 2020-01-02       60   \n",
       "4       0.0            No Show                17892 2020-01-02       60   \n",
       "\n",
       "   AMOUNT ClinicName                                         APPTREASON  \\\n",
       "0   10100        NWM                PeriodicX, ProphyAd, FMP, OralHygIn   \n",
       "1   41200        NWM  PrSclRtPl-LL, PrSclRtPl-UL, GingIrrQd-LL, Ging...   \n",
       "2   21600         DD                                              BORGA   \n",
       "3  124820        NWM                            LimitedEx, CrwnPrCrS#30   \n",
       "4   26900         DD                   PALSIS              NON INS $175   \n",
       "\n",
       "  ProviderName  \n",
       "0    10HYMODEA  \n",
       "1   10HYIARIAS  \n",
       "2   14HYHPATEL  \n",
       "3   10DRLHARBR  \n",
       "4   14HYMSANCH  "
      ]
     },
     "execution_count": 3,
     "metadata": {},
     "output_type": "execute_result"
    }
   ],
   "source": [
    "data.head()"
   ]
  },
  {
   "cell_type": "code",
   "execution_count": 4,
   "id": "a5acd566",
   "metadata": {},
   "outputs": [
    {
     "data": {
      "text/plain": [
       "0.0    25234\n",
       "1.0      957\n",
       "Name: LateFlag, dtype: int64"
      ]
     },
     "execution_count": 4,
     "metadata": {},
     "output_type": "execute_result"
    }
   ],
   "source": [
    "data['LateFlag'].value_counts()"
   ]
  },
  {
   "cell_type": "code",
   "execution_count": null,
   "id": "d4de2ebd",
   "metadata": {},
   "outputs": [],
   "source": []
  },
  {
   "cell_type": "markdown",
   "id": "c5092bec",
   "metadata": {},
   "source": [
    "# Data Generation"
   ]
  },
  {
   "cell_type": "code",
   "execution_count": 5,
   "id": "cdb0eca5",
   "metadata": {},
   "outputs": [
    {
     "data": {
      "text/html": [
       "<div>\n",
       "<style scoped>\n",
       "    .dataframe tbody tr th:only-of-type {\n",
       "        vertical-align: middle;\n",
       "    }\n",
       "\n",
       "    .dataframe tbody tr th {\n",
       "        vertical-align: top;\n",
       "    }\n",
       "\n",
       "    .dataframe thead th {\n",
       "        text-align: right;\n",
       "    }\n",
       "</style>\n",
       "<table border=\"1\" class=\"dataframe\">\n",
       "  <thead>\n",
       "    <tr style=\"text-align: right;\">\n",
       "      <th></th>\n",
       "      <th>ApptStartUTCDateTime</th>\n",
       "      <th>ApptEndUTCDateTime</th>\n",
       "      <th>TIME_HOUR</th>\n",
       "      <th>TIME_MINUTE</th>\n",
       "      <th>APPTID</th>\n",
       "      <th>LateFlag</th>\n",
       "      <th>BROKENREASON</th>\n",
       "      <th>PATID</th>\n",
       "      <th>APPTDATE</th>\n",
       "      <th>APPTLEN</th>\n",
       "      <th>AMOUNT</th>\n",
       "      <th>ClinicName</th>\n",
       "      <th>APPTREASON</th>\n",
       "      <th>ProviderName</th>\n",
       "    </tr>\n",
       "  </thead>\n",
       "  <tbody>\n",
       "    <tr>\n",
       "      <th>0</th>\n",
       "      <td>2020-01-02 13:00:00</td>\n",
       "      <td>2020-01-02 14:00:00</td>\n",
       "      <td>7</td>\n",
       "      <td>0</td>\n",
       "      <td>1406221</td>\n",
       "      <td>0.0</td>\n",
       "      <td>NaN</td>\n",
       "      <td>1963-07-18 00:00:00</td>\n",
       "      <td>2020-01-02</td>\n",
       "      <td>60</td>\n",
       "      <td>10100</td>\n",
       "      <td>NWM</td>\n",
       "      <td>PeriodicX, ProphyAd, FMP, OralHygIn</td>\n",
       "      <td>10HYMODEA</td>\n",
       "    </tr>\n",
       "    <tr>\n",
       "      <th>1</th>\n",
       "      <td>2020-01-02 13:00:00</td>\n",
       "      <td>2020-01-02 14:00:00</td>\n",
       "      <td>7</td>\n",
       "      <td>0</td>\n",
       "      <td>1456438</td>\n",
       "      <td>0.0</td>\n",
       "      <td>NaN</td>\n",
       "      <td>1050043</td>\n",
       "      <td>2020-01-02</td>\n",
       "      <td>60</td>\n",
       "      <td>41200</td>\n",
       "      <td>NWM</td>\n",
       "      <td>PrSclRtPl-LL, PrSclRtPl-UL, GingIrrQd-LL, Ging...</td>\n",
       "      <td>10HYIARIAS</td>\n",
       "    </tr>\n",
       "    <tr>\n",
       "      <th>2</th>\n",
       "      <td>2020-01-02 14:00:00</td>\n",
       "      <td>2020-01-02 15:00:00</td>\n",
       "      <td>8</td>\n",
       "      <td>0</td>\n",
       "      <td>1536678</td>\n",
       "      <td>0.0</td>\n",
       "      <td>NaN</td>\n",
       "      <td>1815</td>\n",
       "      <td>2020-01-02</td>\n",
       "      <td>60</td>\n",
       "      <td>21600</td>\n",
       "      <td>DD</td>\n",
       "      <td>BORGA</td>\n",
       "      <td>14HYHPATEL</td>\n",
       "    </tr>\n",
       "    <tr>\n",
       "      <th>3</th>\n",
       "      <td>2020-01-02 14:00:00</td>\n",
       "      <td>2020-01-02 15:00:00</td>\n",
       "      <td>8</td>\n",
       "      <td>0</td>\n",
       "      <td>1181395</td>\n",
       "      <td>0.0</td>\n",
       "      <td>Late Cancellation</td>\n",
       "      <td>6306</td>\n",
       "      <td>2020-01-02</td>\n",
       "      <td>60</td>\n",
       "      <td>124820</td>\n",
       "      <td>NWM</td>\n",
       "      <td>LimitedEx, CrwnPrCrS#30</td>\n",
       "      <td>10DRLHARBR</td>\n",
       "    </tr>\n",
       "    <tr>\n",
       "      <th>4</th>\n",
       "      <td>2020-01-02 14:00:00</td>\n",
       "      <td>2020-01-02 15:00:00</td>\n",
       "      <td>8</td>\n",
       "      <td>0</td>\n",
       "      <td>1290336</td>\n",
       "      <td>0.0</td>\n",
       "      <td>No Show</td>\n",
       "      <td>17892</td>\n",
       "      <td>2020-01-02</td>\n",
       "      <td>60</td>\n",
       "      <td>26900</td>\n",
       "      <td>DD</td>\n",
       "      <td>PALSIS              NON INS $175</td>\n",
       "      <td>14HYMSANCH</td>\n",
       "    </tr>\n",
       "    <tr>\n",
       "      <th>...</th>\n",
       "      <td>...</td>\n",
       "      <td>...</td>\n",
       "      <td>...</td>\n",
       "      <td>...</td>\n",
       "      <td>...</td>\n",
       "      <td>...</td>\n",
       "      <td>...</td>\n",
       "      <td>...</td>\n",
       "      <td>...</td>\n",
       "      <td>...</td>\n",
       "      <td>...</td>\n",
       "      <td>...</td>\n",
       "      <td>...</td>\n",
       "      <td>...</td>\n",
       "    </tr>\n",
       "    <tr>\n",
       "      <th>26308</th>\n",
       "      <td>2020-12-30 22:30:00</td>\n",
       "      <td>2020-12-30 23:00:00</td>\n",
       "      <td>16</td>\n",
       "      <td>30</td>\n",
       "      <td>1709975</td>\n",
       "      <td>0.0</td>\n",
       "      <td>NaN</td>\n",
       "      <td>1062748</td>\n",
       "      <td>2020-12-30</td>\n",
       "      <td>30</td>\n",
       "      <td>0</td>\n",
       "      <td>NWM</td>\n",
       "      <td>**DELRET</td>\n",
       "      <td>11DRPNAIRI</td>\n",
       "    </tr>\n",
       "    <tr>\n",
       "      <th>26309</th>\n",
       "      <td>2020-12-30 22:30:00</td>\n",
       "      <td>2020-12-30 23:00:00</td>\n",
       "      <td>16</td>\n",
       "      <td>30</td>\n",
       "      <td>1711037</td>\n",
       "      <td>0.0</td>\n",
       "      <td>NaN</td>\n",
       "      <td>1075049</td>\n",
       "      <td>2020-12-30</td>\n",
       "      <td>30</td>\n",
       "      <td>0</td>\n",
       "      <td>DD</td>\n",
       "      <td>FOLLOW UP</td>\n",
       "      <td>14DRJLUNDG</td>\n",
       "    </tr>\n",
       "    <tr>\n",
       "      <th>26310</th>\n",
       "      <td>2020-12-30 23:00:00</td>\n",
       "      <td>2020-12-31 00:00:00</td>\n",
       "      <td>17</td>\n",
       "      <td>0</td>\n",
       "      <td>1609755</td>\n",
       "      <td>0.0</td>\n",
       "      <td>NaN</td>\n",
       "      <td>16104</td>\n",
       "      <td>2020-12-30</td>\n",
       "      <td>60</td>\n",
       "      <td>12100</td>\n",
       "      <td>OFDA</td>\n",
       "      <td>PeriodicX, ProphyAd, OralHygIn</td>\n",
       "      <td>03HYCMILTO</td>\n",
       "    </tr>\n",
       "    <tr>\n",
       "      <th>26311</th>\n",
       "      <td>2020-12-30 23:00:00</td>\n",
       "      <td>2020-12-31 00:00:00</td>\n",
       "      <td>17</td>\n",
       "      <td>0</td>\n",
       "      <td>1676718</td>\n",
       "      <td>0.0</td>\n",
       "      <td>NaN</td>\n",
       "      <td>1001072</td>\n",
       "      <td>2020-12-30</td>\n",
       "      <td>60</td>\n",
       "      <td>14700</td>\n",
       "      <td>OFDA</td>\n",
       "      <td>PeriodicX, 4 BWX, PerMaint, OralHygIn</td>\n",
       "      <td>02HYAMADRI</td>\n",
       "    </tr>\n",
       "    <tr>\n",
       "      <th>26312</th>\n",
       "      <td>2020-12-30 23:15:00</td>\n",
       "      <td>2020-12-31 00:00:00</td>\n",
       "      <td>17</td>\n",
       "      <td>15</td>\n",
       "      <td>1711717</td>\n",
       "      <td>0.0</td>\n",
       "      <td>NaN</td>\n",
       "      <td>21012</td>\n",
       "      <td>2020-12-30</td>\n",
       "      <td>45</td>\n",
       "      <td>7400</td>\n",
       "      <td>OFDA</td>\n",
       "      <td>LimitedEx, PA 1st, PA Add</td>\n",
       "      <td>02DRAWANG</td>\n",
       "    </tr>\n",
       "  </tbody>\n",
       "</table>\n",
       "<p>26313 rows × 14 columns</p>\n",
       "</div>"
      ],
      "text/plain": [
       "      ApptStartUTCDateTime  ApptEndUTCDateTime  TIME_HOUR  TIME_MINUTE  \\\n",
       "0      2020-01-02 13:00:00 2020-01-02 14:00:00          7            0   \n",
       "1      2020-01-02 13:00:00 2020-01-02 14:00:00          7            0   \n",
       "2      2020-01-02 14:00:00 2020-01-02 15:00:00          8            0   \n",
       "3      2020-01-02 14:00:00 2020-01-02 15:00:00          8            0   \n",
       "4      2020-01-02 14:00:00 2020-01-02 15:00:00          8            0   \n",
       "...                    ...                 ...        ...          ...   \n",
       "26308  2020-12-30 22:30:00 2020-12-30 23:00:00         16           30   \n",
       "26309  2020-12-30 22:30:00 2020-12-30 23:00:00         16           30   \n",
       "26310  2020-12-30 23:00:00 2020-12-31 00:00:00         17            0   \n",
       "26311  2020-12-30 23:00:00 2020-12-31 00:00:00         17            0   \n",
       "26312  2020-12-30 23:15:00 2020-12-31 00:00:00         17           15   \n",
       "\n",
       "        APPTID  LateFlag       BROKENREASON                PATID   APPTDATE  \\\n",
       "0      1406221       0.0                NaN  1963-07-18 00:00:00 2020-01-02   \n",
       "1      1456438       0.0                NaN              1050043 2020-01-02   \n",
       "2      1536678       0.0                NaN                 1815 2020-01-02   \n",
       "3      1181395       0.0  Late Cancellation                 6306 2020-01-02   \n",
       "4      1290336       0.0            No Show                17892 2020-01-02   \n",
       "...        ...       ...                ...                  ...        ...   \n",
       "26308  1709975       0.0                NaN              1062748 2020-12-30   \n",
       "26309  1711037       0.0                NaN              1075049 2020-12-30   \n",
       "26310  1609755       0.0                NaN                16104 2020-12-30   \n",
       "26311  1676718       0.0                NaN              1001072 2020-12-30   \n",
       "26312  1711717       0.0                NaN                21012 2020-12-30   \n",
       "\n",
       "       APPTLEN  AMOUNT ClinicName  \\\n",
       "0           60   10100        NWM   \n",
       "1           60   41200        NWM   \n",
       "2           60   21600         DD   \n",
       "3           60  124820        NWM   \n",
       "4           60   26900         DD   \n",
       "...        ...     ...        ...   \n",
       "26308       30       0        NWM   \n",
       "26309       30       0         DD   \n",
       "26310       60   12100       OFDA   \n",
       "26311       60   14700       OFDA   \n",
       "26312       45    7400       OFDA   \n",
       "\n",
       "                                              APPTREASON ProviderName  \n",
       "0                    PeriodicX, ProphyAd, FMP, OralHygIn    10HYMODEA  \n",
       "1      PrSclRtPl-LL, PrSclRtPl-UL, GingIrrQd-LL, Ging...   10HYIARIAS  \n",
       "2                                                  BORGA   14HYHPATEL  \n",
       "3                                LimitedEx, CrwnPrCrS#30   10DRLHARBR  \n",
       "4                       PALSIS              NON INS $175   14HYMSANCH  \n",
       "...                                                  ...          ...  \n",
       "26308                                           **DELRET   11DRPNAIRI  \n",
       "26309                                          FOLLOW UP   14DRJLUNDG  \n",
       "26310                     PeriodicX, ProphyAd, OralHygIn   03HYCMILTO  \n",
       "26311              PeriodicX, 4 BWX, PerMaint, OralHygIn   02HYAMADRI  \n",
       "26312                          LimitedEx, PA 1st, PA Add    02DRAWANG  \n",
       "\n",
       "[26313 rows x 14 columns]"
      ]
     },
     "execution_count": 5,
     "metadata": {},
     "output_type": "execute_result"
    }
   ],
   "source": [
    "data"
   ]
  },
  {
   "cell_type": "code",
   "execution_count": 6,
   "id": "9a435f3f",
   "metadata": {},
   "outputs": [],
   "source": [
    "data['AMOUNT'] = data['AMOUNT']/100"
   ]
  },
  {
   "cell_type": "code",
   "execution_count": 7,
   "id": "f6a6a91d",
   "metadata": {},
   "outputs": [],
   "source": [
    "data['ratio'] = data['AMOUNT'] / data['APPTLEN']"
   ]
  },
  {
   "cell_type": "code",
   "execution_count": 8,
   "id": "25f21089",
   "metadata": {},
   "outputs": [],
   "source": [
    "data['category'] = data['AMOUNT']"
   ]
  },
  {
   "cell_type": "code",
   "execution_count": 9,
   "id": "555e01df",
   "metadata": {},
   "outputs": [
    {
     "name": "stderr",
     "output_type": "stream",
     "text": [
      "/var/folders/x9/c5k7wpkd63q09jb3j0lqsvv80000gn/T/ipykernel_7263/3237541663.py:7: SettingWithCopyWarning: \n",
      "A value is trying to be set on a copy of a slice from a DataFrame\n",
      "\n",
      "See the caveats in the documentation: https://pandas.pydata.org/pandas-docs/stable/user_guide/indexing.html#returning-a-view-versus-a-copy\n",
      "  data['category'].iloc[i] = 'sand'\n"
     ]
    }
   ],
   "source": [
    "for i in range (0, len(data)):\n",
    "    if (data['category'].iloc[i] <= 100):\n",
    "        data['category'].iloc[i] = 'water'\n",
    "    elif(data['category'].iloc[i] >= 2000):\n",
    "        data['category'].iloc[i] = 'rock'\n",
    "    else :\n",
    "        data['category'].iloc[i] = 'sand'"
   ]
  },
  {
   "cell_type": "code",
   "execution_count": 10,
   "id": "124023c8",
   "metadata": {},
   "outputs": [],
   "source": [
    "data['Cancelled'] = data['BROKENREASON']\n",
    "lst = ['Other','Medical Reason','Cannot leave work','Vacation/Out of town', '.',\n",
    "       'Forgot','Cannot afford treatment','Choosing not to do treatment','Family event']\n",
    "cancelled = data['Cancelled'].fillna(0)\n",
    "cancelled = cancelled.replace('Cancellation',1).replace('Late Cancellation',2).replace('No Show',3).replace(lst,4)\n",
    "data['Cancelled'] = cancelled"
   ]
  },
  {
   "cell_type": "code",
   "execution_count": 11,
   "id": "48dc9bdf",
   "metadata": {
    "scrolled": true
   },
   "outputs": [
    {
     "data": {
      "text/plain": [
       "0    24878\n",
       "1      527\n",
       "3      429\n",
       "2      322\n",
       "4      157\n",
       "Name: Cancelled, dtype: int64"
      ]
     },
     "execution_count": 11,
     "metadata": {},
     "output_type": "execute_result"
    }
   ],
   "source": [
    "data['Cancelled'].value_counts()"
   ]
  },
  {
   "cell_type": "code",
   "execution_count": null,
   "id": "15caa96b",
   "metadata": {},
   "outputs": [],
   "source": [
    "\n"
   ]
  },
  {
   "cell_type": "code",
   "execution_count": 12,
   "id": "84203815",
   "metadata": {},
   "outputs": [],
   "source": [
    "data_replaced = np.where((data['LateFlag'] ==1) & (data['Cancelled'] !=0) , 0, data['LateFlag'])"
   ]
  },
  {
   "cell_type": "code",
   "execution_count": 13,
   "id": "37795f2e",
   "metadata": {},
   "outputs": [],
   "source": [
    "data_replaced = pd.DataFrame(data_replaced)"
   ]
  },
  {
   "cell_type": "code",
   "execution_count": 14,
   "id": "a8a6f036",
   "metadata": {},
   "outputs": [],
   "source": [
    "data['LateFlag'] = data_replaced"
   ]
  },
  {
   "cell_type": "code",
   "execution_count": 15,
   "id": "7c8538b3",
   "metadata": {},
   "outputs": [
    {
     "data": {
      "text/plain": [
       "0.0    25306\n",
       "1.0      885\n",
       "Name: LateFlag, dtype: int64"
      ]
     },
     "execution_count": 15,
     "metadata": {},
     "output_type": "execute_result"
    }
   ],
   "source": [
    "data['LateFlag'].value_counts()"
   ]
  },
  {
   "cell_type": "code",
   "execution_count": null,
   "id": "0373d251",
   "metadata": {},
   "outputs": [],
   "source": []
  },
  {
   "cell_type": "markdown",
   "id": "59b89640",
   "metadata": {},
   "source": [
    "#### age"
   ]
  },
  {
   "cell_type": "code",
   "execution_count": 16,
   "id": "a938c78f",
   "metadata": {},
   "outputs": [
    {
     "name": "stdout",
     "output_type": "stream",
     "text": [
      "[21. 38. 32. ... 36. 43. 36.]\n"
     ]
    },
    {
     "data": {
      "text/plain": [
       "<AxesSubplot:ylabel='Count'>"
      ]
     },
     "execution_count": 16,
     "metadata": {},
     "output_type": "execute_result"
    },
    {
     "data": {
      "image/png": "[encoded data removed]",
      "text/plain": [
       "<Figure size 432x288 with 1 Axes>"
      ]
     },
     "metadata": {
      "needs_background": "light"
     },
     "output_type": "display_data"
    }
   ],
   "source": [
    "np.random.seed(123)\n",
    "age = np.random.normal(loc = 30, scale = 8, size = 26313)\n",
    "age = np.round_(age,decimals = 0)\n",
    "print(age)\n",
    "sns.histplot(age)"
   ]
  },
  {
   "cell_type": "code",
   "execution_count": 17,
   "id": "9c043ff7",
   "metadata": {},
   "outputs": [],
   "source": [
    "#add the age to the dataframe\n",
    "data['Age'] = age"
   ]
  },
  {
   "cell_type": "code",
   "execution_count": 18,
   "id": "ae9d21f5",
   "metadata": {},
   "outputs": [
    {
     "data": {
      "text/plain": [
       " 29.0    1367\n",
       " 32.0    1297\n",
       " 30.0    1273\n",
       " 31.0    1262\n",
       " 33.0    1216\n",
       "         ... \n",
       " 59.0       3\n",
       " 63.0       2\n",
       " 58.0       2\n",
       "-0.0        1\n",
       " 2.0        1\n",
       "Name: Age, Length: 61, dtype: int64"
      ]
     },
     "execution_count": 18,
     "metadata": {},
     "output_type": "execute_result"
    }
   ],
   "source": [
    "data['Age'].value_counts()"
   ]
  },
  {
   "cell_type": "markdown",
   "id": "7ccfe296",
   "metadata": {},
   "source": [
    "#### Gender"
   ]
  },
  {
   "cell_type": "code",
   "execution_count": 19,
   "id": "ca2a73b8",
   "metadata": {},
   "outputs": [
    {
     "data": {
      "text/plain": [
       "<AxesSubplot:ylabel='Count'>"
      ]
     },
     "execution_count": 19,
     "metadata": {},
     "output_type": "execute_result"
    },
    {
     "data": {
      "image/png": "[encoded data removed]",
      "text/plain": [
       "<Figure size 432x288 with 1 Axes>"
      ]
     },
     "metadata": {
      "needs_background": "light"
     },
     "output_type": "display_data"
    }
   ],
   "source": [
    "np.random.seed(123)\n",
    "gender = []\n",
    "for i in range(0,26313):\n",
    "    n = random.randint(0,1)\n",
    "    gender.append(n)\n",
    "#print(gender)\n",
    "sns.histplot(gender)"
   ]
  },
  {
   "cell_type": "code",
   "execution_count": 20,
   "id": "3bb73afe",
   "metadata": {},
   "outputs": [],
   "source": [
    "#add the gender to the dataframe \n",
    "#0 as female & 1 as male\n",
    "data['Gender'] = gender"
   ]
  },
  {
   "cell_type": "code",
   "execution_count": 21,
   "id": "1b12e9ed",
   "metadata": {},
   "outputs": [
    {
     "data": {
      "text/plain": [
       "0    13168\n",
       "1    13145\n",
       "Name: Gender, dtype: int64"
      ]
     },
     "execution_count": 21,
     "metadata": {},
     "output_type": "execute_result"
    }
   ],
   "source": [
    "data['Gender'].value_counts()"
   ]
  },
  {
   "cell_type": "markdown",
   "id": "dbba328c",
   "metadata": {},
   "source": [
    "#### Income"
   ]
  },
  {
   "cell_type": "code",
   "execution_count": 22,
   "id": "5f16fbf5",
   "metadata": {},
   "outputs": [
    {
     "data": {
      "text/plain": [
       "<AxesSubplot:ylabel='Count'>"
      ]
     },
     "execution_count": 22,
     "metadata": {},
     "output_type": "execute_result"
    },
    {
     "data": {
      "image/png": "[encoded data removed]",
      "text/plain": [
       "<Figure size 432x288 with 1 Axes>"
      ]
     },
     "metadata": {
      "needs_background": "light"
     },
     "output_type": "display_data"
    }
   ],
   "source": [
    "np.random.seed(123)\n",
    "salary_range = [20000, 40000, 60000, 80000, 100000]\n",
    "w = (25,25,25,15,10)\n",
    "salary = random.choices(salary_range, weights = w, k = 26313)\n",
    "sns.histplot(salary)"
   ]
  },
  {
   "cell_type": "code",
   "execution_count": 23,
   "id": "2e21e47d",
   "metadata": {},
   "outputs": [],
   "source": [
    "#add the salary to the dataframe \n",
    "data['Salary'] = salary"
   ]
  },
  {
   "cell_type": "code",
   "execution_count": 24,
   "id": "8162bfe1",
   "metadata": {},
   "outputs": [
    {
     "data": {
      "text/plain": [
       "40000     6657\n",
       "20000     6555\n",
       "60000     6519\n",
       "80000     3938\n",
       "100000    2644\n",
       "Name: Salary, dtype: int64"
      ]
     },
     "execution_count": 24,
     "metadata": {},
     "output_type": "execute_result"
    }
   ],
   "source": [
    "data['Salary'].value_counts()"
   ]
  },
  {
   "cell_type": "markdown",
   "id": "a2bf1f2a",
   "metadata": {},
   "source": [
    "#### physical distance from dental clinic"
   ]
  },
  {
   "cell_type": "code",
   "execution_count": 25,
   "id": "cf9d9525",
   "metadata": {},
   "outputs": [
    {
     "data": {
      "text/plain": [
       "<AxesSubplot:ylabel='Count'>"
      ]
     },
     "execution_count": 25,
     "metadata": {},
     "output_type": "execute_result"
    },
    {
     "data": {
      "image/png": "[encoded data removed]",
      "text/plain": [
       "<Figure size 432x288 with 1 Axes>"
      ]
     },
     "metadata": {
      "needs_background": "light"
     },
     "output_type": "display_data"
    }
   ],
   "source": [
    "np.random.seed(123)\n",
    "distance_range = [2,5,10,20,50,100]\n",
    "w1 = (20,30,20,15,10,5)\n",
    "distance = random.choices(distance_range, weights = w1, k = 26313)\n",
    "sns.histplot(distance)"
   ]
  },
  {
   "cell_type": "code",
   "execution_count": 26,
   "id": "c290dd2a",
   "metadata": {},
   "outputs": [],
   "source": [
    "#add the distance to the dataframe \n",
    "data['Distance'] = distance"
   ]
  },
  {
   "cell_type": "code",
   "execution_count": 27,
   "id": "677462e8",
   "metadata": {},
   "outputs": [
    {
     "data": {
      "text/plain": [
       "5      7916\n",
       "10     5334\n",
       "2      5249\n",
       "20     4005\n",
       "50     2534\n",
       "100    1275\n",
       "Name: Distance, dtype: int64"
      ]
     },
     "execution_count": 27,
     "metadata": {},
     "output_type": "execute_result"
    }
   ],
   "source": [
    "data['Distance'].value_counts()"
   ]
  },
  {
   "cell_type": "markdown",
   "id": "e621b41d",
   "metadata": {},
   "source": [
    "#### frequency of dental cleaning"
   ]
  },
  {
   "cell_type": "code",
   "execution_count": 28,
   "id": "27b85a07",
   "metadata": {},
   "outputs": [
    {
     "data": {
      "text/plain": [
       "<AxesSubplot:ylabel='Count'>"
      ]
     },
     "execution_count": 28,
     "metadata": {},
     "output_type": "execute_result"
    },
    {
     "data": {
      "image/png": "[encoded data removed]",
      "text/plain": [
       "<Figure size 432x288 with 1 Axes>"
      ]
     },
     "metadata": {
      "needs_background": "light"
     },
     "output_type": "display_data"
    }
   ],
   "source": [
    "np.random.seed(123)\n",
    "daily_cleaning_frequency_range = [0,1,2,3]\n",
    "w2 = (20,30,35,15)\n",
    "daily_cleaning_frequency = random.choices(daily_cleaning_frequency_range, weights = w2, k = 26313)\n",
    "sns.histplot(daily_cleaning_frequency)"
   ]
  },
  {
   "cell_type": "code",
   "execution_count": 29,
   "id": "20fefa9e",
   "metadata": {},
   "outputs": [],
   "source": [
    "#add the daily cleaning frequency to the dataframe \n",
    "data['daily_cleaning_frequency'] = daily_cleaning_frequency"
   ]
  },
  {
   "cell_type": "code",
   "execution_count": 30,
   "id": "d9bd6513",
   "metadata": {},
   "outputs": [
    {
     "data": {
      "text/plain": [
       "2    9372\n",
       "1    7683\n",
       "0    5311\n",
       "3    3947\n",
       "Name: daily_cleaning_frequency, dtype: int64"
      ]
     },
     "execution_count": 30,
     "metadata": {},
     "output_type": "execute_result"
    }
   ],
   "source": [
    "data['daily_cleaning_frequency'].value_counts()"
   ]
  },
  {
   "cell_type": "markdown",
   "id": "03d7aa5e",
   "metadata": {},
   "source": [
    "#### dental insurance"
   ]
  },
  {
   "cell_type": "code",
   "execution_count": 31,
   "id": "4b52c31a",
   "metadata": {},
   "outputs": [
    {
     "data": {
      "text/plain": [
       "<AxesSubplot:ylabel='Count'>"
      ]
     },
     "execution_count": 31,
     "metadata": {},
     "output_type": "execute_result"
    },
    {
     "data": {
      "image/png": "[encoded data removed]",
      "text/plain": [
       "<Figure size 432x288 with 1 Axes>"
      ]
     },
     "metadata": {
      "needs_background": "light"
     },
     "output_type": "display_data"
    }
   ],
   "source": [
    "np.random.seed(123)\n",
    "insurance_range = [0,1]\n",
    "w3 = (35,65)\n",
    "insurance = random.choices(insurance_range, weights = w3, k = 26313)\n",
    "sns.histplot(insurance)"
   ]
  },
  {
   "cell_type": "code",
   "execution_count": 32,
   "id": "caef9696",
   "metadata": {},
   "outputs": [],
   "source": [
    "#add the insurance to the dataframe \n",
    "data['Insurance'] = insurance"
   ]
  },
  {
   "cell_type": "code",
   "execution_count": 33,
   "id": "f5984e61",
   "metadata": {},
   "outputs": [
    {
     "data": {
      "text/plain": [
       "1    17024\n",
       "0     9289\n",
       "Name: Insurance, dtype: int64"
      ]
     },
     "execution_count": 33,
     "metadata": {},
     "output_type": "execute_result"
    }
   ],
   "source": [
    "data['Insurance'].value_counts()"
   ]
  },
  {
   "cell_type": "code",
   "execution_count": 34,
   "id": "ec11511a",
   "metadata": {},
   "outputs": [
    {
     "data": {
      "text/html": [
       "<div>\n",
       "<style scoped>\n",
       "    .dataframe tbody tr th:only-of-type {\n",
       "        vertical-align: middle;\n",
       "    }\n",
       "\n",
       "    .dataframe tbody tr th {\n",
       "        vertical-align: top;\n",
       "    }\n",
       "\n",
       "    .dataframe thead th {\n",
       "        text-align: right;\n",
       "    }\n",
       "</style>\n",
       "<table border=\"1\" class=\"dataframe\">\n",
       "  <thead>\n",
       "    <tr style=\"text-align: right;\">\n",
       "      <th></th>\n",
       "      <th>TIME_HOUR</th>\n",
       "      <th>TIME_MINUTE</th>\n",
       "      <th>APPTID</th>\n",
       "      <th>LateFlag</th>\n",
       "      <th>APPTLEN</th>\n",
       "      <th>AMOUNT</th>\n",
       "      <th>ratio</th>\n",
       "      <th>Cancelled</th>\n",
       "      <th>Age</th>\n",
       "      <th>Gender</th>\n",
       "      <th>Salary</th>\n",
       "      <th>Distance</th>\n",
       "      <th>daily_cleaning_frequency</th>\n",
       "      <th>Insurance</th>\n",
       "    </tr>\n",
       "  </thead>\n",
       "  <tbody>\n",
       "    <tr>\n",
       "      <th>TIME_HOUR</th>\n",
       "      <td>1.000000</td>\n",
       "      <td>0.021832</td>\n",
       "      <td>-0.010448</td>\n",
       "      <td>-0.009062</td>\n",
       "      <td>-0.056382</td>\n",
       "      <td>-0.033064</td>\n",
       "      <td>-0.012545</td>\n",
       "      <td>0.018739</td>\n",
       "      <td>-0.002611</td>\n",
       "      <td>-0.007790</td>\n",
       "      <td>0.002330</td>\n",
       "      <td>-0.001088</td>\n",
       "      <td>-0.001870</td>\n",
       "      <td>0.005925</td>\n",
       "    </tr>\n",
       "    <tr>\n",
       "      <th>TIME_MINUTE</th>\n",
       "      <td>0.021832</td>\n",
       "      <td>1.000000</td>\n",
       "      <td>0.080633</td>\n",
       "      <td>-0.029226</td>\n",
       "      <td>-0.222988</td>\n",
       "      <td>0.023540</td>\n",
       "      <td>0.070268</td>\n",
       "      <td>-0.013889</td>\n",
       "      <td>0.011345</td>\n",
       "      <td>-0.005676</td>\n",
       "      <td>0.000991</td>\n",
       "      <td>0.002820</td>\n",
       "      <td>0.016403</td>\n",
       "      <td>-0.002355</td>\n",
       "    </tr>\n",
       "    <tr>\n",
       "      <th>APPTID</th>\n",
       "      <td>-0.010448</td>\n",
       "      <td>0.080633</td>\n",
       "      <td>1.000000</td>\n",
       "      <td>0.019975</td>\n",
       "      <td>0.041146</td>\n",
       "      <td>0.087827</td>\n",
       "      <td>0.064562</td>\n",
       "      <td>-0.287302</td>\n",
       "      <td>-0.013998</td>\n",
       "      <td>-0.005188</td>\n",
       "      <td>0.011611</td>\n",
       "      <td>0.007904</td>\n",
       "      <td>0.001340</td>\n",
       "      <td>0.001439</td>\n",
       "    </tr>\n",
       "    <tr>\n",
       "      <th>LateFlag</th>\n",
       "      <td>-0.009062</td>\n",
       "      <td>-0.029226</td>\n",
       "      <td>0.019975</td>\n",
       "      <td>1.000000</td>\n",
       "      <td>0.044650</td>\n",
       "      <td>0.011547</td>\n",
       "      <td>0.005916</td>\n",
       "      <td>-0.040314</td>\n",
       "      <td>0.016932</td>\n",
       "      <td>-0.000090</td>\n",
       "      <td>-0.004569</td>\n",
       "      <td>0.003230</td>\n",
       "      <td>0.007438</td>\n",
       "      <td>0.001618</td>\n",
       "    </tr>\n",
       "    <tr>\n",
       "      <th>APPTLEN</th>\n",
       "      <td>-0.056382</td>\n",
       "      <td>-0.222988</td>\n",
       "      <td>0.041146</td>\n",
       "      <td>0.044650</td>\n",
       "      <td>1.000000</td>\n",
       "      <td>0.332489</td>\n",
       "      <td>0.067918</td>\n",
       "      <td>0.005004</td>\n",
       "      <td>-0.000967</td>\n",
       "      <td>0.006650</td>\n",
       "      <td>0.006392</td>\n",
       "      <td>0.000857</td>\n",
       "      <td>0.000120</td>\n",
       "      <td>-0.005481</td>\n",
       "    </tr>\n",
       "    <tr>\n",
       "      <th>AMOUNT</th>\n",
       "      <td>-0.033064</td>\n",
       "      <td>0.023540</td>\n",
       "      <td>0.087827</td>\n",
       "      <td>0.011547</td>\n",
       "      <td>0.332489</td>\n",
       "      <td>1.000000</td>\n",
       "      <td>0.804975</td>\n",
       "      <td>-0.005646</td>\n",
       "      <td>-0.000123</td>\n",
       "      <td>-0.002782</td>\n",
       "      <td>0.008041</td>\n",
       "      <td>0.000799</td>\n",
       "      <td>0.001104</td>\n",
       "      <td>-0.005741</td>\n",
       "    </tr>\n",
       "    <tr>\n",
       "      <th>ratio</th>\n",
       "      <td>-0.012545</td>\n",
       "      <td>0.070268</td>\n",
       "      <td>0.064562</td>\n",
       "      <td>0.005916</td>\n",
       "      <td>0.067918</td>\n",
       "      <td>0.804975</td>\n",
       "      <td>1.000000</td>\n",
       "      <td>-0.004991</td>\n",
       "      <td>-0.000307</td>\n",
       "      <td>0.002008</td>\n",
       "      <td>0.011093</td>\n",
       "      <td>0.004504</td>\n",
       "      <td>-0.001978</td>\n",
       "      <td>-0.002227</td>\n",
       "    </tr>\n",
       "    <tr>\n",
       "      <th>Cancelled</th>\n",
       "      <td>0.018739</td>\n",
       "      <td>-0.013889</td>\n",
       "      <td>-0.287302</td>\n",
       "      <td>-0.040314</td>\n",
       "      <td>0.005004</td>\n",
       "      <td>-0.005646</td>\n",
       "      <td>-0.004991</td>\n",
       "      <td>1.000000</td>\n",
       "      <td>-0.001098</td>\n",
       "      <td>-0.001066</td>\n",
       "      <td>-0.007331</td>\n",
       "      <td>-0.003283</td>\n",
       "      <td>-0.006007</td>\n",
       "      <td>0.005748</td>\n",
       "    </tr>\n",
       "    <tr>\n",
       "      <th>Age</th>\n",
       "      <td>-0.002611</td>\n",
       "      <td>0.011345</td>\n",
       "      <td>-0.013998</td>\n",
       "      <td>0.016932</td>\n",
       "      <td>-0.000967</td>\n",
       "      <td>-0.000123</td>\n",
       "      <td>-0.000307</td>\n",
       "      <td>-0.001098</td>\n",
       "      <td>1.000000</td>\n",
       "      <td>0.011230</td>\n",
       "      <td>0.008286</td>\n",
       "      <td>-0.004926</td>\n",
       "      <td>0.001330</td>\n",
       "      <td>0.001900</td>\n",
       "    </tr>\n",
       "    <tr>\n",
       "      <th>Gender</th>\n",
       "      <td>-0.007790</td>\n",
       "      <td>-0.005676</td>\n",
       "      <td>-0.005188</td>\n",
       "      <td>-0.000090</td>\n",
       "      <td>0.006650</td>\n",
       "      <td>-0.002782</td>\n",
       "      <td>0.002008</td>\n",
       "      <td>-0.001066</td>\n",
       "      <td>0.011230</td>\n",
       "      <td>1.000000</td>\n",
       "      <td>0.002071</td>\n",
       "      <td>0.002439</td>\n",
       "      <td>-0.006177</td>\n",
       "      <td>0.006273</td>\n",
       "    </tr>\n",
       "    <tr>\n",
       "      <th>Salary</th>\n",
       "      <td>0.002330</td>\n",
       "      <td>0.000991</td>\n",
       "      <td>0.011611</td>\n",
       "      <td>-0.004569</td>\n",
       "      <td>0.006392</td>\n",
       "      <td>0.008041</td>\n",
       "      <td>0.011093</td>\n",
       "      <td>-0.007331</td>\n",
       "      <td>0.008286</td>\n",
       "      <td>0.002071</td>\n",
       "      <td>1.000000</td>\n",
       "      <td>-0.004555</td>\n",
       "      <td>0.016004</td>\n",
       "      <td>0.001169</td>\n",
       "    </tr>\n",
       "    <tr>\n",
       "      <th>Distance</th>\n",
       "      <td>-0.001088</td>\n",
       "      <td>0.002820</td>\n",
       "      <td>0.007904</td>\n",
       "      <td>0.003230</td>\n",
       "      <td>0.000857</td>\n",
       "      <td>0.000799</td>\n",
       "      <td>0.004504</td>\n",
       "      <td>-0.003283</td>\n",
       "      <td>-0.004926</td>\n",
       "      <td>0.002439</td>\n",
       "      <td>-0.004555</td>\n",
       "      <td>1.000000</td>\n",
       "      <td>0.007410</td>\n",
       "      <td>0.005622</td>\n",
       "    </tr>\n",
       "    <tr>\n",
       "      <th>daily_cleaning_frequency</th>\n",
       "      <td>-0.001870</td>\n",
       "      <td>0.016403</td>\n",
       "      <td>0.001340</td>\n",
       "      <td>0.007438</td>\n",
       "      <td>0.000120</td>\n",
       "      <td>0.001104</td>\n",
       "      <td>-0.001978</td>\n",
       "      <td>-0.006007</td>\n",
       "      <td>0.001330</td>\n",
       "      <td>-0.006177</td>\n",
       "      <td>0.016004</td>\n",
       "      <td>0.007410</td>\n",
       "      <td>1.000000</td>\n",
       "      <td>0.000110</td>\n",
       "    </tr>\n",
       "    <tr>\n",
       "      <th>Insurance</th>\n",
       "      <td>0.005925</td>\n",
       "      <td>-0.002355</td>\n",
       "      <td>0.001439</td>\n",
       "      <td>0.001618</td>\n",
       "      <td>-0.005481</td>\n",
       "      <td>-0.005741</td>\n",
       "      <td>-0.002227</td>\n",
       "      <td>0.005748</td>\n",
       "      <td>0.001900</td>\n",
       "      <td>0.006273</td>\n",
       "      <td>0.001169</td>\n",
       "      <td>0.005622</td>\n",
       "      <td>0.000110</td>\n",
       "      <td>1.000000</td>\n",
       "    </tr>\n",
       "  </tbody>\n",
       "</table>\n",
       "</div>"
      ],
      "text/plain": [
       "                          TIME_HOUR  TIME_MINUTE    APPTID  LateFlag  \\\n",
       "TIME_HOUR                  1.000000     0.021832 -0.010448 -0.009062   \n",
       "TIME_MINUTE                0.021832     1.000000  0.080633 -0.029226   \n",
       "APPTID                    -0.010448     0.080633  1.000000  0.019975   \n",
       "LateFlag                  -0.009062    -0.029226  0.019975  1.000000   \n",
       "APPTLEN                   -0.056382    -0.222988  0.041146  0.044650   \n",
       "AMOUNT                    -0.033064     0.023540  0.087827  0.011547   \n",
       "ratio                     -0.012545     0.070268  0.064562  0.005916   \n",
       "Cancelled                  0.018739    -0.013889 -0.287302 -0.040314   \n",
       "Age                       -0.002611     0.011345 -0.013998  0.016932   \n",
       "Gender                    -0.007790    -0.005676 -0.005188 -0.000090   \n",
       "Salary                     0.002330     0.000991  0.011611 -0.004569   \n",
       "Distance                  -0.001088     0.002820  0.007904  0.003230   \n",
       "daily_cleaning_frequency  -0.001870     0.016403  0.001340  0.007438   \n",
       "Insurance                  0.005925    -0.002355  0.001439  0.001618   \n",
       "\n",
       "                           APPTLEN    AMOUNT     ratio  Cancelled       Age  \\\n",
       "TIME_HOUR                -0.056382 -0.033064 -0.012545   0.018739 -0.002611   \n",
       "TIME_MINUTE              -0.222988  0.023540  0.070268  -0.013889  0.011345   \n",
       "APPTID                    0.041146  0.087827  0.064562  -0.287302 -0.013998   \n",
       "LateFlag                  0.044650  0.011547  0.005916  -0.040314  0.016932   \n",
       "APPTLEN                   1.000000  0.332489  0.067918   0.005004 -0.000967   \n",
       "AMOUNT                    0.332489  1.000000  0.804975  -0.005646 -0.000123   \n",
       "ratio                     0.067918  0.804975  1.000000  -0.004991 -0.000307   \n",
       "Cancelled                 0.005004 -0.005646 -0.004991   1.000000 -0.001098   \n",
       "Age                      -0.000967 -0.000123 -0.000307  -0.001098  1.000000   \n",
       "Gender                    0.006650 -0.002782  0.002008  -0.001066  0.011230   \n",
       "Salary                    0.006392  0.008041  0.011093  -0.007331  0.008286   \n",
       "Distance                  0.000857  0.000799  0.004504  -0.003283 -0.004926   \n",
       "daily_cleaning_frequency  0.000120  0.001104 -0.001978  -0.006007  0.001330   \n",
       "Insurance                -0.005481 -0.005741 -0.002227   0.005748  0.001900   \n",
       "\n",
       "                            Gender    Salary  Distance  \\\n",
       "TIME_HOUR                -0.007790  0.002330 -0.001088   \n",
       "TIME_MINUTE              -0.005676  0.000991  0.002820   \n",
       "APPTID                   -0.005188  0.011611  0.007904   \n",
       "LateFlag                 -0.000090 -0.004569  0.003230   \n",
       "APPTLEN                   0.006650  0.006392  0.000857   \n",
       "AMOUNT                   -0.002782  0.008041  0.000799   \n",
       "ratio                     0.002008  0.011093  0.004504   \n",
       "Cancelled                -0.001066 -0.007331 -0.003283   \n",
       "Age                       0.011230  0.008286 -0.004926   \n",
       "Gender                    1.000000  0.002071  0.002439   \n",
       "Salary                    0.002071  1.000000 -0.004555   \n",
       "Distance                  0.002439 -0.004555  1.000000   \n",
       "daily_cleaning_frequency -0.006177  0.016004  0.007410   \n",
       "Insurance                 0.006273  0.001169  0.005622   \n",
       "\n",
       "                          daily_cleaning_frequency  Insurance  \n",
       "TIME_HOUR                                -0.001870   0.005925  \n",
       "TIME_MINUTE                               0.016403  -0.002355  \n",
       "APPTID                                    0.001340   0.001439  \n",
       "LateFlag                                  0.007438   0.001618  \n",
       "APPTLEN                                   0.000120  -0.005481  \n",
       "AMOUNT                                    0.001104  -0.005741  \n",
       "ratio                                    -0.001978  -0.002227  \n",
       "Cancelled                                -0.006007   0.005748  \n",
       "Age                                       0.001330   0.001900  \n",
       "Gender                                   -0.006177   0.006273  \n",
       "Salary                                    0.016004   0.001169  \n",
       "Distance                                  0.007410   0.005622  \n",
       "daily_cleaning_frequency                  1.000000   0.000110  \n",
       "Insurance                                 0.000110   1.000000  "
      ]
     },
     "execution_count": 34,
     "metadata": {},
     "output_type": "execute_result"
    }
   ],
   "source": [
    "data.corr()"
   ]
  },
  {
   "cell_type": "code",
   "execution_count": 35,
   "id": "483ed8df",
   "metadata": {},
   "outputs": [
    {
     "data": {
      "text/plain": [
       "<AxesSubplot:>"
      ]
     },
     "execution_count": 35,
     "metadata": {},
     "output_type": "execute_result"
    },
    {
     "data": {
      "image/png": "[encoded data removed]",
      "text/plain": [
       "<Figure size 1152x720 with 2 Axes>"
      ]
     },
     "metadata": {
      "needs_background": "light"
     },
     "output_type": "display_data"
    }
   ],
   "source": [
    "plt.figure(figsize=(16,10))\n",
    "sns.heatmap(data.corr(),cbar=True,annot=True,cmap='Blues')"
   ]
  },
  {
   "cell_type": "code",
   "execution_count": null,
   "id": "a5fed5d8",
   "metadata": {},
   "outputs": [],
   "source": []
  },
  {
   "cell_type": "markdown",
   "id": "288fc1a0",
   "metadata": {},
   "source": [
    "# Model Training and Testing"
   ]
  },
  {
   "cell_type": "code",
   "execution_count": 36,
   "id": "260b0de2",
   "metadata": {},
   "outputs": [
    {
     "name": "stderr",
     "output_type": "stream",
     "text": [
      "/var/folders/x9/c5k7wpkd63q09jb3j0lqsvv80000gn/T/ipykernel_7263/1243635773.py:2: SettingWithCopyWarning: \n",
      "A value is trying to be set on a copy of a slice from a DataFrame.\n",
      "Try using .loc[row_indexer,col_indexer] = value instead\n",
      "\n",
      "See the caveats in the documentation: https://pandas.pydata.org/pandas-docs/stable/user_guide/indexing.html#returning-a-view-versus-a-copy\n",
      "  data_demo['LateFlag'] = data_demo['LateFlag'].fillna(1)\n"
     ]
    },
    {
     "data": {
      "text/html": [
       "<div>\n",
       "<style scoped>\n",
       "    .dataframe tbody tr th:only-of-type {\n",
       "        vertical-align: middle;\n",
       "    }\n",
       "\n",
       "    .dataframe tbody tr th {\n",
       "        vertical-align: top;\n",
       "    }\n",
       "\n",
       "    .dataframe thead th {\n",
       "        text-align: right;\n",
       "    }\n",
       "</style>\n",
       "<table border=\"1\" class=\"dataframe\">\n",
       "  <thead>\n",
       "    <tr style=\"text-align: right;\">\n",
       "      <th></th>\n",
       "      <th>LateFlag</th>\n",
       "      <th>Age</th>\n",
       "      <th>Gender</th>\n",
       "      <th>Salary</th>\n",
       "      <th>Distance</th>\n",
       "      <th>daily_cleaning_frequency</th>\n",
       "      <th>Insurance</th>\n",
       "    </tr>\n",
       "  </thead>\n",
       "  <tbody>\n",
       "    <tr>\n",
       "      <th>0</th>\n",
       "      <td>0.0</td>\n",
       "      <td>21.0</td>\n",
       "      <td>0</td>\n",
       "      <td>20000</td>\n",
       "      <td>50</td>\n",
       "      <td>3</td>\n",
       "      <td>0</td>\n",
       "    </tr>\n",
       "    <tr>\n",
       "      <th>1</th>\n",
       "      <td>0.0</td>\n",
       "      <td>38.0</td>\n",
       "      <td>1</td>\n",
       "      <td>40000</td>\n",
       "      <td>5</td>\n",
       "      <td>1</td>\n",
       "      <td>1</td>\n",
       "    </tr>\n",
       "    <tr>\n",
       "      <th>2</th>\n",
       "      <td>0.0</td>\n",
       "      <td>32.0</td>\n",
       "      <td>1</td>\n",
       "      <td>40000</td>\n",
       "      <td>10</td>\n",
       "      <td>1</td>\n",
       "      <td>0</td>\n",
       "    </tr>\n",
       "    <tr>\n",
       "      <th>3</th>\n",
       "      <td>0.0</td>\n",
       "      <td>18.0</td>\n",
       "      <td>1</td>\n",
       "      <td>20000</td>\n",
       "      <td>5</td>\n",
       "      <td>3</td>\n",
       "      <td>0</td>\n",
       "    </tr>\n",
       "    <tr>\n",
       "      <th>4</th>\n",
       "      <td>0.0</td>\n",
       "      <td>25.0</td>\n",
       "      <td>1</td>\n",
       "      <td>60000</td>\n",
       "      <td>5</td>\n",
       "      <td>1</td>\n",
       "      <td>1</td>\n",
       "    </tr>\n",
       "    <tr>\n",
       "      <th>...</th>\n",
       "      <td>...</td>\n",
       "      <td>...</td>\n",
       "      <td>...</td>\n",
       "      <td>...</td>\n",
       "      <td>...</td>\n",
       "      <td>...</td>\n",
       "      <td>...</td>\n",
       "    </tr>\n",
       "    <tr>\n",
       "      <th>26308</th>\n",
       "      <td>0.0</td>\n",
       "      <td>30.0</td>\n",
       "      <td>0</td>\n",
       "      <td>80000</td>\n",
       "      <td>5</td>\n",
       "      <td>2</td>\n",
       "      <td>0</td>\n",
       "    </tr>\n",
       "    <tr>\n",
       "      <th>26309</th>\n",
       "      <td>0.0</td>\n",
       "      <td>55.0</td>\n",
       "      <td>0</td>\n",
       "      <td>40000</td>\n",
       "      <td>50</td>\n",
       "      <td>0</td>\n",
       "      <td>0</td>\n",
       "    </tr>\n",
       "    <tr>\n",
       "      <th>26310</th>\n",
       "      <td>0.0</td>\n",
       "      <td>36.0</td>\n",
       "      <td>1</td>\n",
       "      <td>60000</td>\n",
       "      <td>2</td>\n",
       "      <td>3</td>\n",
       "      <td>0</td>\n",
       "    </tr>\n",
       "    <tr>\n",
       "      <th>26311</th>\n",
       "      <td>0.0</td>\n",
       "      <td>43.0</td>\n",
       "      <td>0</td>\n",
       "      <td>100000</td>\n",
       "      <td>20</td>\n",
       "      <td>2</td>\n",
       "      <td>0</td>\n",
       "    </tr>\n",
       "    <tr>\n",
       "      <th>26312</th>\n",
       "      <td>0.0</td>\n",
       "      <td>36.0</td>\n",
       "      <td>0</td>\n",
       "      <td>80000</td>\n",
       "      <td>50</td>\n",
       "      <td>1</td>\n",
       "      <td>1</td>\n",
       "    </tr>\n",
       "  </tbody>\n",
       "</table>\n",
       "<p>26313 rows × 7 columns</p>\n",
       "</div>"
      ],
      "text/plain": [
       "       LateFlag   Age  Gender  Salary  Distance  daily_cleaning_frequency  \\\n",
       "0           0.0  21.0       0   20000        50                         3   \n",
       "1           0.0  38.0       1   40000         5                         1   \n",
       "2           0.0  32.0       1   40000        10                         1   \n",
       "3           0.0  18.0       1   20000         5                         3   \n",
       "4           0.0  25.0       1   60000         5                         1   \n",
       "...         ...   ...     ...     ...       ...                       ...   \n",
       "26308       0.0  30.0       0   80000         5                         2   \n",
       "26309       0.0  55.0       0   40000        50                         0   \n",
       "26310       0.0  36.0       1   60000         2                         3   \n",
       "26311       0.0  43.0       0  100000        20                         2   \n",
       "26312       0.0  36.0       0   80000        50                         1   \n",
       "\n",
       "       Insurance  \n",
       "0              0  \n",
       "1              1  \n",
       "2              0  \n",
       "3              0  \n",
       "4              1  \n",
       "...          ...  \n",
       "26308          0  \n",
       "26309          0  \n",
       "26310          0  \n",
       "26311          0  \n",
       "26312          1  \n",
       "\n",
       "[26313 rows x 7 columns]"
      ]
     },
     "execution_count": 36,
     "metadata": {},
     "output_type": "execute_result"
    }
   ],
   "source": [
    "data_demo = data[[\"LateFlag\", \"Age\", \"Gender\", \"Salary\", \"Distance\", \"daily_cleaning_frequency\", \"Insurance\"]]\n",
    "data_demo['LateFlag'] = data_demo['LateFlag'].fillna(1)\n",
    "data_demo"
   ]
  },
  {
   "cell_type": "code",
   "execution_count": 37,
   "id": "0734db0f",
   "metadata": {},
   "outputs": [],
   "source": [
    "from sklearn.model_selection import train_test_split\n",
    "X,y = data_demo.iloc[:,1:], data_demo['LateFlag']\n",
    "X_train, X_test, y_train, y_test = train_test_split(X, y, test_size=0.2, random_state=42)"
   ]
  },
  {
   "cell_type": "code",
   "execution_count": 38,
   "id": "26bf8268",
   "metadata": {},
   "outputs": [
    {
     "data": {
      "text/plain": [
       "0.0    25306\n",
       "1.0     1007\n",
       "Name: LateFlag, dtype: int64"
      ]
     },
     "execution_count": 38,
     "metadata": {},
     "output_type": "execute_result"
    }
   ],
   "source": [
    "y.value_counts()"
   ]
  },
  {
   "cell_type": "code",
   "execution_count": 39,
   "id": "04200f59",
   "metadata": {},
   "outputs": [],
   "source": [
    "from sklearn.linear_model import LogisticRegression\n",
    "from sklearn.neighbors import KNeighborsClassifier\n",
    "from sklearn.tree import DecisionTreeClassifier\n",
    "from sklearn.ensemble import RandomForestClassifier\n",
    "from sklearn.naive_bayes import GaussianNB\n",
    "from sklearn.ensemble import GradientBoostingClassifier\n",
    "from sklearn.svm import SVC, LinearSVC\n",
    "from sklearn import metrics\n",
    "from sklearn.metrics import accuracy_score\n",
    "from sklearn.metrics import f1_score\n",
    "from sklearn.metrics import precision_score\n",
    "from sklearn.metrics import recall_score"
   ]
  },
  {
   "cell_type": "markdown",
   "id": "b008ffa8",
   "metadata": {},
   "source": [
    "# Logistic Regression"
   ]
  },
  {
   "cell_type": "code",
   "execution_count": 40,
   "id": "fa916d43",
   "metadata": {},
   "outputs": [
    {
     "name": "stdout",
     "output_type": "stream",
     "text": [
      "              precision    recall  f1-score   support\n",
      "\n",
      "         0.0       0.96      1.00      0.98      5061\n",
      "         1.0       0.00      0.00      0.00       202\n",
      "\n",
      "    accuracy                           0.96      5263\n",
      "   macro avg       0.48      0.50      0.49      5263\n",
      "weighted avg       0.92      0.96      0.94      5263\n",
      "\n",
      "0.9617577197149644\n"
     ]
    },
    {
     "name": "stderr",
     "output_type": "stream",
     "text": [
      "/Users/annhuang/miniforge3/lib/python3.9/site-packages/sklearn/metrics/_classification.py:1334: UndefinedMetricWarning: Precision and F-score are ill-defined and being set to 0.0 in labels with no predicted samples. Use `zero_division` parameter to control this behavior.\n",
      "  _warn_prf(average, modifier, msg_start, len(result))\n",
      "/Users/annhuang/miniforge3/lib/python3.9/site-packages/sklearn/metrics/_classification.py:1334: UndefinedMetricWarning: Precision and F-score are ill-defined and being set to 0.0 in labels with no predicted samples. Use `zero_division` parameter to control this behavior.\n",
      "  _warn_prf(average, modifier, msg_start, len(result))\n",
      "/Users/annhuang/miniforge3/lib/python3.9/site-packages/sklearn/metrics/_classification.py:1334: UndefinedMetricWarning: Precision and F-score are ill-defined and being set to 0.0 in labels with no predicted samples. Use `zero_division` parameter to control this behavior.\n",
      "  _warn_prf(average, modifier, msg_start, len(result))\n"
     ]
    },
    {
     "data": {
      "image/png": "[encoded data removed]",
      "text/plain": [
       "<Figure size 432x288 with 2 Axes>"
      ]
     },
     "metadata": {
      "needs_background": "light"
     },
     "output_type": "display_data"
    }
   ],
   "source": [
    "LR = LogisticRegression()\n",
    "LR = LR.fit(X_train, y_train)\n",
    "y_pred = LR.predict(X_test)\n",
    "cf_matrix0 = metrics.confusion_matrix(y_test, y_pred)\n",
    "class_names=[0,1] # name of classes\n",
    "fig, ax = plt.subplots()\n",
    "tick_marks = np.arange(len(class_names))\n",
    "plt.xticks(tick_marks, class_names)\n",
    "plt.yticks(tick_marks, class_names)\n",
    "sns.heatmap(pd.DataFrame(cf_matrix0), annot=True, cmap=\"YlGnBu\" ,fmt='g')\n",
    "ax.xaxis.set_label_position(\"top\")\n",
    "plt.tight_layout()\n",
    "plt.title('Confusion matrix', y=1.1)\n",
    "plt.ylabel('Actual label')\n",
    "plt.xlabel('Predicted label')\n",
    "print(metrics.classification_report(y_test, y_pred))\n",
    "print(accuracy_score(LR.predict(X_train),y_train))"
   ]
  },
  {
   "cell_type": "markdown",
   "id": "5fda5dc4",
   "metadata": {},
   "source": [
    "# KNN"
   ]
  },
  {
   "cell_type": "code",
   "execution_count": 41,
   "id": "557d5821",
   "metadata": {},
   "outputs": [
    {
     "name": "stdout",
     "output_type": "stream",
     "text": [
      "              precision    recall  f1-score   support\n",
      "\n",
      "         0.0       0.96      1.00      0.98      5061\n",
      "         1.0       0.00      0.00      0.00       202\n",
      "\n",
      "    accuracy                           0.96      5263\n",
      "   macro avg       0.48      0.50      0.49      5263\n",
      "weighted avg       0.92      0.96      0.94      5263\n",
      "\n",
      "0.961520190023753\n"
     ]
    },
    {
     "data": {
      "image/png": "[encoded data removed]",
      "text/plain": [
       "<Figure size 432x288 with 2 Axes>"
      ]
     },
     "metadata": {
      "needs_background": "light"
     },
     "output_type": "display_data"
    }
   ],
   "source": [
    "KNN = KNeighborsClassifier()\n",
    "KNN = KNN.fit(X_train, y_train)\n",
    "y_pred = KNN.predict(X_test)\n",
    "cf_matrix0 = metrics.confusion_matrix(y_test, y_pred)\n",
    "class_names=[0,1] # name of classes\n",
    "fig, ax = plt.subplots()\n",
    "tick_marks = np.arange(len(class_names))\n",
    "plt.xticks(tick_marks, class_names)\n",
    "plt.yticks(tick_marks, class_names)\n",
    "sns.heatmap(pd.DataFrame(cf_matrix0), annot=True, cmap=\"YlGnBu\" ,fmt='g')\n",
    "ax.xaxis.set_label_position(\"top\")\n",
    "plt.tight_layout()\n",
    "plt.title('Confusion matrix', y=1.1)\n",
    "plt.ylabel('Actual label')\n",
    "plt.xlabel('Predicted label')\n",
    "print(metrics.classification_report(y_test, y_pred))\n",
    "print(accuracy_score(KNN.predict(X_train),y_train))"
   ]
  },
  {
   "cell_type": "markdown",
   "id": "78080ace",
   "metadata": {},
   "source": [
    "# Decision Tree"
   ]
  },
  {
   "cell_type": "code",
   "execution_count": 42,
   "id": "7a9e4069",
   "metadata": {},
   "outputs": [
    {
     "name": "stdout",
     "output_type": "stream",
     "text": [
      "              precision    recall  f1-score   support\n",
      "\n",
      "         0.0       0.96      0.98      0.97      5061\n",
      "         1.0       0.02      0.01      0.01       202\n",
      "\n",
      "    accuracy                           0.94      5263\n",
      "   macro avg       0.49      0.50      0.49      5263\n",
      "weighted avg       0.93      0.94      0.93      5263\n",
      "\n",
      "0.9712589073634205\n"
     ]
    },
    {
     "data": {
      "image/png": "[encoded data removed]",
      "text/plain": [
       "<Figure size 432x288 with 2 Axes>"
      ]
     },
     "metadata": {
      "needs_background": "light"
     },
     "output_type": "display_data"
    }
   ],
   "source": [
    "DCT = DecisionTreeClassifier()\n",
    "DCT = DCT.fit(X_train, y_train)\n",
    "y_pred = DCT.predict(X_test)\n",
    "cf_matrix0 = metrics.confusion_matrix(y_test, y_pred)\n",
    "class_names=[0,1] # name of classes\n",
    "fig, ax = plt.subplots()\n",
    "tick_marks = np.arange(len(class_names))\n",
    "plt.xticks(tick_marks, class_names)\n",
    "plt.yticks(tick_marks, class_names)\n",
    "sns.heatmap(pd.DataFrame(cf_matrix0), annot=True, cmap=\"YlGnBu\" ,fmt='g')\n",
    "ax.xaxis.set_label_position(\"top\")\n",
    "plt.tight_layout()\n",
    "plt.title('Confusion matrix', y=1.1)\n",
    "plt.ylabel('Actual label')\n",
    "plt.xlabel('Predicted label')\n",
    "print(metrics.classification_report(y_test, y_pred))\n",
    "print(accuracy_score(DCT.predict(X_train),y_train))"
   ]
  },
  {
   "cell_type": "markdown",
   "id": "646339fb",
   "metadata": {},
   "source": [
    "# Random Forest"
   ]
  },
  {
   "cell_type": "code",
   "execution_count": 43,
   "id": "870a3db2",
   "metadata": {},
   "outputs": [
    {
     "name": "stdout",
     "output_type": "stream",
     "text": [
      "              precision    recall  f1-score   support\n",
      "\n",
      "         0.0       0.96      0.99      0.98      5061\n",
      "         1.0       0.02      0.00      0.01       202\n",
      "\n",
      "    accuracy                           0.95      5263\n",
      "   macro avg       0.49      0.50      0.49      5263\n",
      "weighted avg       0.93      0.95      0.94      5263\n",
      "\n",
      "0.9712589073634205\n"
     ]
    },
    {
     "data": {
      "image/png": "[encoded data removed]",
      "text/plain": [
       "<Figure size 432x288 with 2 Axes>"
      ]
     },
     "metadata": {
      "needs_background": "light"
     },
     "output_type": "display_data"
    }
   ],
   "source": [
    "RDF = RandomForestClassifier()\n",
    "RDF = RDF.fit(X_train, y_train)\n",
    "y_pred = RDF.predict(X_test)\n",
    "cf_matrix0 = metrics.confusion_matrix(y_test, y_pred)\n",
    "class_names=[0,1] # name of classes\n",
    "fig, ax = plt.subplots()\n",
    "tick_marks = np.arange(len(class_names))\n",
    "plt.xticks(tick_marks, class_names)\n",
    "plt.yticks(tick_marks, class_names)\n",
    "sns.heatmap(pd.DataFrame(cf_matrix0), annot=True, cmap=\"YlGnBu\" ,fmt='g')\n",
    "ax.xaxis.set_label_position(\"top\")\n",
    "plt.tight_layout()\n",
    "plt.title('Confusion matrix', y=1.1)\n",
    "plt.ylabel('Actual label')\n",
    "plt.xlabel('Predicted label')\n",
    "print(metrics.classification_report(y_test, y_pred))\n",
    "print(accuracy_score(RDF.predict(X_train),y_train))"
   ]
  },
  {
   "cell_type": "markdown",
   "id": "b88780eb",
   "metadata": {},
   "source": [
    "# Naive Bayes"
   ]
  },
  {
   "cell_type": "code",
   "execution_count": 44,
   "id": "c9fa6cb0",
   "metadata": {},
   "outputs": [
    {
     "name": "stdout",
     "output_type": "stream",
     "text": [
      "              precision    recall  f1-score   support\n",
      "\n",
      "         0.0       0.96      1.00      0.98      5061\n",
      "         1.0       0.00      0.00      0.00       202\n",
      "\n",
      "    accuracy                           0.96      5263\n",
      "   macro avg       0.48      0.50      0.49      5263\n",
      "weighted avg       0.92      0.96      0.94      5263\n",
      "\n",
      "0.9617577197149644\n"
     ]
    },
    {
     "name": "stderr",
     "output_type": "stream",
     "text": [
      "/Users/annhuang/miniforge3/lib/python3.9/site-packages/sklearn/metrics/_classification.py:1334: UndefinedMetricWarning: Precision and F-score are ill-defined and being set to 0.0 in labels with no predicted samples. Use `zero_division` parameter to control this behavior.\n",
      "  _warn_prf(average, modifier, msg_start, len(result))\n",
      "/Users/annhuang/miniforge3/lib/python3.9/site-packages/sklearn/metrics/_classification.py:1334: UndefinedMetricWarning: Precision and F-score are ill-defined and being set to 0.0 in labels with no predicted samples. Use `zero_division` parameter to control this behavior.\n",
      "  _warn_prf(average, modifier, msg_start, len(result))\n",
      "/Users/annhuang/miniforge3/lib/python3.9/site-packages/sklearn/metrics/_classification.py:1334: UndefinedMetricWarning: Precision and F-score are ill-defined and being set to 0.0 in labels with no predicted samples. Use `zero_division` parameter to control this behavior.\n",
      "  _warn_prf(average, modifier, msg_start, len(result))\n"
     ]
    },
    {
     "data": {
      "image/png": "[encoded data removed]",
      "text/plain": [
       "<Figure size 432x288 with 2 Axes>"
      ]
     },
     "metadata": {
      "needs_background": "light"
     },
     "output_type": "display_data"
    }
   ],
   "source": [
    "GNB = GaussianNB()\n",
    "GNB = GNB.fit(X_train, y_train)\n",
    "y_pred = GNB.predict(X_test)\n",
    "cf_matrix0 = metrics.confusion_matrix(y_test, y_pred)\n",
    "class_names=[0,1] # name of classes\n",
    "fig, ax = plt.subplots()\n",
    "tick_marks = np.arange(len(class_names))\n",
    "plt.xticks(tick_marks, class_names)\n",
    "plt.yticks(tick_marks, class_names)\n",
    "sns.heatmap(pd.DataFrame(cf_matrix0), annot=True, cmap=\"YlGnBu\" ,fmt='g')\n",
    "ax.xaxis.set_label_position(\"top\")\n",
    "plt.tight_layout()\n",
    "plt.title('Confusion matrix', y=1.1)\n",
    "plt.ylabel('Actual label')\n",
    "plt.xlabel('Predicted label')\n",
    "print(metrics.classification_report(y_test, y_pred))\n",
    "print(accuracy_score(GNB.predict(X_train),y_train))"
   ]
  },
  {
   "cell_type": "markdown",
   "id": "7308f641",
   "metadata": {},
   "source": [
    "# Gradient Boosting"
   ]
  },
  {
   "cell_type": "code",
   "execution_count": 45,
   "id": "9f5b409a",
   "metadata": {},
   "outputs": [
    {
     "name": "stdout",
     "output_type": "stream",
     "text": [
      "              precision    recall  f1-score   support\n",
      "\n",
      "         0.0       0.96      1.00      0.98      5061\n",
      "         1.0       0.00      0.00      0.00       202\n",
      "\n",
      "    accuracy                           0.96      5263\n",
      "   macro avg       0.48      0.50      0.49      5263\n",
      "weighted avg       0.92      0.96      0.94      5263\n",
      "\n",
      "0.9618052256532067\n"
     ]
    },
    {
     "name": "stderr",
     "output_type": "stream",
     "text": [
      "/Users/annhuang/miniforge3/lib/python3.9/site-packages/sklearn/metrics/_classification.py:1334: UndefinedMetricWarning: Precision and F-score are ill-defined and being set to 0.0 in labels with no predicted samples. Use `zero_division` parameter to control this behavior.\n",
      "  _warn_prf(average, modifier, msg_start, len(result))\n",
      "/Users/annhuang/miniforge3/lib/python3.9/site-packages/sklearn/metrics/_classification.py:1334: UndefinedMetricWarning: Precision and F-score are ill-defined and being set to 0.0 in labels with no predicted samples. Use `zero_division` parameter to control this behavior.\n",
      "  _warn_prf(average, modifier, msg_start, len(result))\n",
      "/Users/annhuang/miniforge3/lib/python3.9/site-packages/sklearn/metrics/_classification.py:1334: UndefinedMetricWarning: Precision and F-score are ill-defined and being set to 0.0 in labels with no predicted samples. Use `zero_division` parameter to control this behavior.\n",
      "  _warn_prf(average, modifier, msg_start, len(result))\n"
     ]
    },
    {
     "data": {
      "image/png": "[encoded data removed]",
      "text/plain": [
       "<Figure size 432x288 with 2 Axes>"
      ]
     },
     "metadata": {
      "needs_background": "light"
     },
     "output_type": "display_data"
    }
   ],
   "source": [
    "GB = GradientBoostingClassifier()\n",
    "GB = GB.fit(X_train, y_train)\n",
    "y_pred = GB.predict(X_test)\n",
    "cf_matrix0 = metrics.confusion_matrix(y_test, y_pred)\n",
    "class_names=[0,1] # name of classes\n",
    "fig, ax = plt.subplots()\n",
    "tick_marks = np.arange(len(class_names))\n",
    "plt.xticks(tick_marks, class_names)\n",
    "plt.yticks(tick_marks, class_names)\n",
    "sns.heatmap(pd.DataFrame(cf_matrix0), annot=True, cmap=\"YlGnBu\" ,fmt='g')\n",
    "ax.xaxis.set_label_position(\"top\")\n",
    "plt.tight_layout()\n",
    "plt.title('Confusion matrix', y=1.1)\n",
    "plt.ylabel('Actual label')\n",
    "plt.xlabel('Predicted label')\n",
    "print(metrics.classification_report(y_test, y_pred))\n",
    "print(accuracy_score(GB.predict(X_train),y_train))"
   ]
  },
  {
   "cell_type": "markdown",
   "id": "fb996f6f",
   "metadata": {},
   "source": [
    "# ROC"
   ]
  },
  {
   "cell_type": "code",
   "execution_count": 46,
   "id": "cef9a89d",
   "metadata": {},
   "outputs": [],
   "source": [
    "model_lr = LogisticRegression().fit(X_train, y_train)\n",
    "probs_lr = model_lr.predict_proba(X_test)[:, 1]\n",
    "\n",
    "model_dt = DecisionTreeClassifier().fit(X_train, y_train)\n",
    "probs_dt = model_dt.predict_proba(X_test)[:, 1]\n",
    "\n",
    "model_rf = RandomForestClassifier().fit(X_train, y_train)\n",
    "probs_rf = model_rf.predict_proba(X_test)[:, 1]\n",
    "\n",
    "model_knn = KNeighborsClassifier().fit(X_train, y_train)\n",
    "probs_knn = model_knn.predict_proba(X_test)[:, 1]\n",
    "\n",
    "model_nb = GaussianNB().fit(X_train, y_train)\n",
    "probs_nb = model_nb.predict_proba(X_test)[:, 1]\n",
    "\n",
    "model_gb = GradientBoostingClassifier().fit(X_train, y_train)\n",
    "probs_gb = model_gb.predict_proba(X_test)[:, 1]"
   ]
  },
  {
   "cell_type": "code",
   "execution_count": 47,
   "id": "aa92aeb3",
   "metadata": {},
   "outputs": [
    {
     "data": {
      "text/plain": [
       "<matplotlib.legend.Legend at 0x12da1f9d0>"
      ]
     },
     "execution_count": 47,
     "metadata": {},
     "output_type": "execute_result"
    },
    {
     "data": {
      "image/png": "[encoded data removed]",
      "text/plain": [
       "<Figure size 864x504 with 1 Axes>"
      ]
     },
     "metadata": {
      "needs_background": "light"
     },
     "output_type": "display_data"
    }
   ],
   "source": [
    "from sklearn.metrics import roc_auc_score\n",
    "from sklearn.metrics import roc_curve\n",
    "auc_lr = roc_auc_score(y_test, probs_lr)\n",
    "fpr_lr, tpr_lr, thresholds_lr = roc_curve(y_test, probs_lr)\n",
    "\n",
    "auc_dt = roc_auc_score(y_test, probs_dt)\n",
    "fpr_dt, tpr_dt, thresholds_dt = roc_curve(y_test, probs_dt)\n",
    "\n",
    "auc_rf = roc_auc_score(y_test, probs_rf)\n",
    "fpr_rf, tpr_rf, thresholds_rf = roc_curve(y_test, probs_rf)\n",
    "\n",
    "auc_knn = roc_auc_score(y_test, probs_knn)\n",
    "fpr_knn, tpr_knn, thresholds_knn = roc_curve(y_test, probs_knn)\n",
    "\n",
    "auc_nb = roc_auc_score(y_test, probs_nb)\n",
    "fpr_nb, tpr_nb, thresholds_nb = roc_curve(y_test, probs_nb)\n",
    "\n",
    "auc_gb = roc_auc_score(y_test, probs_gb)\n",
    "fpr_gb, tpr_gb, thresholds_gb = roc_curve(y_test, probs_gb)\n",
    "\n",
    "\n",
    "\n",
    "plt.figure(figsize=(12, 7))\n",
    "plt.plot(fpr_lr, tpr_lr, label=f'AUC (Logistic Regression) = {auc_lr:.2f}')\n",
    "plt.plot(fpr_dt, tpr_dt, label=f'AUC (Decision Tree) = {auc_dt:.2f}')\n",
    "plt.plot(fpr_rf, tpr_rf, label=f'AUC (Random Forests) = {auc_rf:.2f}')\n",
    "plt.plot(fpr_knn, tpr_knn, label=f'AUC (KNN) = {auc_knn:.2f}')\n",
    "plt.plot(fpr_nb, tpr_nb, label=f'AUC (Naive Bayes) = {auc_nb:.2f}')\n",
    "plt.plot(fpr_gb, tpr_gb, label=f'AUC (Gradient Boosting) = {auc_gb:.2f}')\n",
    "plt.plot([0, 1], [0, 1], color='blue', linestyle='--', label='Baseline')\n",
    "plt.title('ROC Curve', size=20)\n",
    "plt.xlabel('False Positive Rate', size=14)\n",
    "plt.ylabel('True Positive Rate', size=14)\n",
    "plt.legend()"
   ]
  },
  {
   "cell_type": "markdown",
   "id": "7cdf4bec",
   "metadata": {},
   "source": [
    "# SMOTE"
   ]
  },
  {
   "cell_type": "code",
   "execution_count": 48,
   "id": "f328ad83",
   "metadata": {},
   "outputs": [],
   "source": [
    "from imblearn.over_sampling import SMOTE\n",
    "\n",
    "oversample = SMOTE()\n",
    "X_sm, y_sm = oversample.fit_resample(X, y)"
   ]
  },
  {
   "cell_type": "code",
   "execution_count": 49,
   "id": "9e98d62b",
   "metadata": {},
   "outputs": [
    {
     "data": {
      "text/plain": [
       "0.0    25306\n",
       "1.0    25306\n",
       "Name: LateFlag, dtype: int64"
      ]
     },
     "execution_count": 49,
     "metadata": {},
     "output_type": "execute_result"
    }
   ],
   "source": [
    "y_sm.value_counts()"
   ]
  },
  {
   "cell_type": "code",
   "execution_count": 50,
   "id": "d43533f5",
   "metadata": {},
   "outputs": [],
   "source": [
    "from imblearn.over_sampling import SMOTENC\n",
    "\n",
    "oversample = SMOTENC(categorical_features=[1,2,3,4,5]\n",
    "               , random_state=123, sampling_strategy = {1:8000})\n",
    "X_sm_nc, y_sm_nc = oversample.fit_resample(X, y)"
   ]
  },
  {
   "cell_type": "code",
   "execution_count": 51,
   "id": "3d2c5e23",
   "metadata": {},
   "outputs": [
    {
     "data": {
      "text/plain": [
       "0.0    25306\n",
       "1.0     8000\n",
       "Name: LateFlag, dtype: int64"
      ]
     },
     "execution_count": 51,
     "metadata": {},
     "output_type": "execute_result"
    }
   ],
   "source": [
    "y_sm_nc.value_counts()"
   ]
  },
  {
   "cell_type": "code",
   "execution_count": 52,
   "id": "b06b6720",
   "metadata": {},
   "outputs": [
    {
     "data": {
      "text/plain": [
       "Age        Gender  Salary  Distance  daily_cleaning_frequency  Insurance\n",
       "30.000000  0       20000   20        1                         1            39\n",
       "           1       20000   5         2                         1            33\n",
       "                   60000   5         1                         1            32\n",
       "28.000000  1       60000   20        0                         1            31\n",
       "26.000000  0       60000   5         1                         1            27\n",
       "                                                                            ..\n",
       "27.774699  0       100000  20        2                         1             1\n",
       "27.776707  1       60000   5         2                         1             1\n",
       "27.783757  0       40000   20        2                         1             1\n",
       "27.792950  1       60000   2         2                         0             1\n",
       "63.000000  0       80000   50        2                         1             1\n",
       "Length: 15693, dtype: int64"
      ]
     },
     "execution_count": 52,
     "metadata": {},
     "output_type": "execute_result"
    }
   ],
   "source": [
    "X_sm_nc.value_counts()"
   ]
  },
  {
   "cell_type": "code",
   "execution_count": 53,
   "id": "7af7ac1e",
   "metadata": {},
   "outputs": [],
   "source": [
    "X_train_sm_nc, X_test_sm_nc, y_train_sm_nc, y_test_sm_nc = train_test_split(X_sm_nc, y_sm_nc, test_size=0.2, random_state=42)"
   ]
  },
  {
   "cell_type": "code",
   "execution_count": 167,
   "id": "c5e0cdd2",
   "metadata": {},
   "outputs": [
    {
     "name": "stderr",
     "output_type": "stream",
     "text": [
      "No artists with labels found to put in legend.  Note that artists whose label start with an underscore are ignored when legend() is called with no argument.\n"
     ]
    },
    {
     "data": {
      "image/png": "[encoded data removed]",
      "text/plain": [
       "<Figure size 432x288 with 1 Axes>"
      ]
     },
     "metadata": {
      "needs_background": "light"
     },
     "output_type": "display_data"
    }
   ],
   "source": [
    "#BEFORE SMOTE PLOT\n",
    "plt.scatter(X_train['Salary'], X_train['Age'], c = y_train,  cmap=\"tab10\")  #  #  , label=str(label))\n",
    "plt.legend()\n",
    "plt.show()"
   ]
  },
  {
   "cell_type": "code",
   "execution_count": 168,
   "id": "9d7d825d",
   "metadata": {},
   "outputs": [
    {
     "name": "stderr",
     "output_type": "stream",
     "text": [
      "No artists with labels found to put in legend.  Note that artists whose label start with an underscore are ignored when legend() is called with no argument.\n"
     ]
    },
    {
     "data": {
      "image/png": "[encoded data removed]",
      "text/plain": [
       "<Figure size 432x288 with 1 Axes>"
      ]
     },
     "metadata": {
      "needs_background": "light"
     },
     "output_type": "display_data"
    }
   ],
   "source": [
    "#AFTER SMOTE PLOT\n",
    "plt.scatter(X_train_sm_nc['Salary'], X_train_sm_nc['Age'], c = y_train_sm_nc,  cmap=\"tab10\")  #  #  , label=str(label))\n",
    "plt.legend()\n",
    "plt.show()"
   ]
  },
  {
   "cell_type": "code",
   "execution_count": 54,
   "id": "859ce99d",
   "metadata": {},
   "outputs": [
    {
     "name": "stdout",
     "output_type": "stream",
     "text": [
      "              precision    recall  f1-score   support\n",
      "\n",
      "         0.0       0.76      1.00      0.86      5067\n",
      "         1.0       0.00      0.00      0.00      1595\n",
      "\n",
      "    accuracy                           0.76      6662\n",
      "   macro avg       0.38      0.50      0.43      6662\n",
      "weighted avg       0.58      0.76      0.66      6662\n",
      "\n",
      "0.7596081669419006\n"
     ]
    },
    {
     "name": "stderr",
     "output_type": "stream",
     "text": [
      "/Users/annhuang/miniforge3/lib/python3.9/site-packages/sklearn/metrics/_classification.py:1334: UndefinedMetricWarning: Precision and F-score are ill-defined and being set to 0.0 in labels with no predicted samples. Use `zero_division` parameter to control this behavior.\n",
      "  _warn_prf(average, modifier, msg_start, len(result))\n",
      "/Users/annhuang/miniforge3/lib/python3.9/site-packages/sklearn/metrics/_classification.py:1334: UndefinedMetricWarning: Precision and F-score are ill-defined and being set to 0.0 in labels with no predicted samples. Use `zero_division` parameter to control this behavior.\n",
      "  _warn_prf(average, modifier, msg_start, len(result))\n",
      "/Users/annhuang/miniforge3/lib/python3.9/site-packages/sklearn/metrics/_classification.py:1334: UndefinedMetricWarning: Precision and F-score are ill-defined and being set to 0.0 in labels with no predicted samples. Use `zero_division` parameter to control this behavior.\n",
      "  _warn_prf(average, modifier, msg_start, len(result))\n"
     ]
    },
    {
     "data": {
      "image/png": "[encoded data removed]",
      "text/plain": [
       "<Figure size 432x288 with 2 Axes>"
      ]
     },
     "metadata": {
      "needs_background": "light"
     },
     "output_type": "display_data"
    }
   ],
   "source": [
    "LR = LogisticRegression()\n",
    "LR = LR.fit(X_train_sm_nc, y_train_sm_nc)\n",
    "y_pred_sm_nc = LR.predict(X_test_sm_nc)\n",
    "cf_matrix0 = metrics.confusion_matrix(y_test_sm_nc, y_pred_sm_nc)\n",
    "class_names=[0,1] # name of classes\n",
    "fig, ax = plt.subplots()\n",
    "tick_marks = np.arange(len(class_names))\n",
    "plt.xticks(tick_marks, class_names)\n",
    "plt.yticks(tick_marks, class_names)\n",
    "sns.heatmap(pd.DataFrame(cf_matrix0), annot=True, cmap=\"YlGnBu\" ,fmt='g')\n",
    "ax.xaxis.set_label_position(\"top\")\n",
    "plt.tight_layout()\n",
    "plt.title('Confusion matrix', y=1.1)\n",
    "plt.ylabel('Actual label')\n",
    "plt.xlabel('Predicted label')\n",
    "print(metrics.classification_report(y_test_sm_nc, y_pred_sm_nc))\n",
    "print(accuracy_score(LR.predict(X_train_sm_nc),y_train_sm_nc))"
   ]
  },
  {
   "cell_type": "code",
   "execution_count": 55,
   "id": "5a2cbdcf",
   "metadata": {},
   "outputs": [
    {
     "name": "stdout",
     "output_type": "stream",
     "text": [
      "              precision    recall  f1-score   support\n",
      "\n",
      "         0.0       0.88      0.90      0.89      5067\n",
      "         1.0       0.65      0.63      0.64      1595\n",
      "\n",
      "    accuracy                           0.83      6662\n",
      "   macro avg       0.77      0.76      0.77      6662\n",
      "weighted avg       0.83      0.83      0.83      6662\n",
      "\n",
      "0.8790346794775559\n"
     ]
    },
    {
     "data": {
      "image/png": "[encoded data removed]",
      "text/plain": [
       "<Figure size 432x288 with 2 Axes>"
      ]
     },
     "metadata": {
      "needs_background": "light"
     },
     "output_type": "display_data"
    }
   ],
   "source": [
    "KNN = KNeighborsClassifier()\n",
    "KNN = KNN.fit(X_train_sm_nc, y_train_sm_nc)\n",
    "y_pred_sm_nc = KNN.predict(X_test_sm_nc)\n",
    "cf_matrix0 = metrics.confusion_matrix(y_test_sm_nc, y_pred_sm_nc)\n",
    "class_names=[0,1] # name of classes\n",
    "fig, ax = plt.subplots()\n",
    "tick_marks = np.arange(len(class_names))\n",
    "plt.xticks(tick_marks, class_names)\n",
    "plt.yticks(tick_marks, class_names)\n",
    "sns.heatmap(pd.DataFrame(cf_matrix0), annot=True, cmap=\"YlGnBu\" ,fmt='g')\n",
    "ax.xaxis.set_label_position(\"top\")\n",
    "plt.tight_layout()\n",
    "plt.title('Confusion matrix', y=1.1)\n",
    "plt.ylabel('Actual label')\n",
    "plt.xlabel('Predicted label')\n",
    "print(metrics.classification_report(y_test_sm_nc, y_pred_sm_nc))\n",
    "print(accuracy_score(KNN.predict(X_train_sm_nc),y_train_sm_nc))"
   ]
  },
  {
   "cell_type": "code",
   "execution_count": 56,
   "id": "e97740ab",
   "metadata": {},
   "outputs": [
    {
     "name": "stdout",
     "output_type": "stream",
     "text": [
      "              precision    recall  f1-score   support\n",
      "\n",
      "         0.0       0.93      0.94      0.94      5067\n",
      "         1.0       0.81      0.77      0.79      1595\n",
      "\n",
      "    accuracy                           0.90      6662\n",
      "   macro avg       0.87      0.86      0.86      6662\n",
      "weighted avg       0.90      0.90      0.90      6662\n",
      "\n",
      "0.950270229695241\n"
     ]
    },
    {
     "data": {
      "image/png": "[encoded data removed]",
      "text/plain": [
       "<Figure size 432x288 with 2 Axes>"
      ]
     },
     "metadata": {
      "needs_background": "light"
     },
     "output_type": "display_data"
    }
   ],
   "source": [
    "DCT = DecisionTreeClassifier()\n",
    "DCT = DCT.fit(X_train_sm_nc, y_train_sm_nc)\n",
    "y_pred_sm_nc = DCT.predict(X_test_sm_nc)\n",
    "cf_matrix0 = metrics.confusion_matrix(y_test_sm_nc, y_pred_sm_nc)\n",
    "class_names=[0,1] # name of classes\n",
    "fig, ax = plt.subplots()\n",
    "tick_marks = np.arange(len(class_names))\n",
    "plt.xticks(tick_marks, class_names)\n",
    "plt.yticks(tick_marks, class_names)\n",
    "sns.heatmap(pd.DataFrame(cf_matrix0), annot=True, cmap=\"YlGnBu\" ,fmt='g')\n",
    "ax.xaxis.set_label_position(\"top\")\n",
    "plt.tight_layout()\n",
    "plt.title('Confusion matrix', y=1.1)\n",
    "plt.ylabel('Actual label')\n",
    "plt.xlabel('Predicted label')\n",
    "print(metrics.classification_report(y_test_sm_nc, y_pred_sm_nc))\n",
    "print(accuracy_score(DCT.predict(X_train_sm_nc),y_train_sm_nc))"
   ]
  },
  {
   "cell_type": "code",
   "execution_count": 57,
   "id": "de86f776",
   "metadata": {},
   "outputs": [
    {
     "name": "stdout",
     "output_type": "stream",
     "text": [
      "              precision    recall  f1-score   support\n",
      "\n",
      "         0.0       0.91      0.94      0.92      5067\n",
      "         1.0       0.77      0.69      0.73      1595\n",
      "\n",
      "    accuracy                           0.88      6662\n",
      "   macro avg       0.84      0.81      0.83      6662\n",
      "weighted avg       0.87      0.88      0.88      6662\n",
      "\n",
      "0.950270229695241\n"
     ]
    },
    {
     "data": {
      "image/png": "[encoded data removed]",
      "text/plain": [
       "<Figure size 432x288 with 2 Axes>"
      ]
     },
     "metadata": {
      "needs_background": "light"
     },
     "output_type": "display_data"
    }
   ],
   "source": [
    "RDF = RandomForestClassifier()\n",
    "RDF = RDF.fit(X_train_sm_nc, y_train_sm_nc)\n",
    "y_pred_sm_nc = RDF.predict(X_test_sm_nc)\n",
    "cf_matrix0 = metrics.confusion_matrix(y_test_sm_nc, y_pred_sm_nc)\n",
    "class_names=[0,1] # name of classes\n",
    "fig, ax = plt.subplots()\n",
    "tick_marks = np.arange(len(class_names))\n",
    "plt.xticks(tick_marks, class_names)\n",
    "plt.yticks(tick_marks, class_names)\n",
    "sns.heatmap(pd.DataFrame(cf_matrix0), annot=True, cmap=\"YlGnBu\" ,fmt='g')\n",
    "ax.xaxis.set_label_position(\"top\")\n",
    "plt.tight_layout()\n",
    "plt.title('Confusion matrix', y=1.1)\n",
    "plt.ylabel('Actual label')\n",
    "plt.xlabel('Predicted label')\n",
    "print(metrics.classification_report(y_test_sm_nc, y_pred_sm_nc))\n",
    "print(accuracy_score(RDF.predict(X_train_sm_nc),y_train_sm_nc))"
   ]
  },
  {
   "cell_type": "code",
   "execution_count": 58,
   "id": "99446b08",
   "metadata": {},
   "outputs": [
    {
     "name": "stdout",
     "output_type": "stream",
     "text": [
      "              precision    recall  f1-score   support\n",
      "\n",
      "         0.0       0.76      1.00      0.86      5067\n",
      "         1.0       0.00      0.00      0.00      1595\n",
      "\n",
      "    accuracy                           0.76      6662\n",
      "   macro avg       0.38      0.50      0.43      6662\n",
      "weighted avg       0.58      0.76      0.66      6662\n",
      "\n",
      "0.7596081669419006\n"
     ]
    },
    {
     "name": "stderr",
     "output_type": "stream",
     "text": [
      "/Users/annhuang/miniforge3/lib/python3.9/site-packages/sklearn/metrics/_classification.py:1334: UndefinedMetricWarning: Precision and F-score are ill-defined and being set to 0.0 in labels with no predicted samples. Use `zero_division` parameter to control this behavior.\n",
      "  _warn_prf(average, modifier, msg_start, len(result))\n",
      "/Users/annhuang/miniforge3/lib/python3.9/site-packages/sklearn/metrics/_classification.py:1334: UndefinedMetricWarning: Precision and F-score are ill-defined and being set to 0.0 in labels with no predicted samples. Use `zero_division` parameter to control this behavior.\n",
      "  _warn_prf(average, modifier, msg_start, len(result))\n",
      "/Users/annhuang/miniforge3/lib/python3.9/site-packages/sklearn/metrics/_classification.py:1334: UndefinedMetricWarning: Precision and F-score are ill-defined and being set to 0.0 in labels with no predicted samples. Use `zero_division` parameter to control this behavior.\n",
      "  _warn_prf(average, modifier, msg_start, len(result))\n"
     ]
    },
    {
     "data": {
      "image/png": "[encoded data removed]",
      "text/plain": [
       "<Figure size 432x288 with 2 Axes>"
      ]
     },
     "metadata": {
      "needs_background": "light"
     },
     "output_type": "display_data"
    }
   ],
   "source": [
    "GNB = GaussianNB()\n",
    "GNB = GNB.fit(X_train_sm_nc, y_train_sm_nc)\n",
    "y_pred_sm_nc = GNB.predict(X_test_sm_nc)\n",
    "cf_matrix0 = metrics.confusion_matrix(y_test_sm_nc, y_pred_sm_nc)\n",
    "class_names=[0,1] # name of classes\n",
    "fig, ax = plt.subplots()\n",
    "tick_marks = np.arange(len(class_names))\n",
    "plt.xticks(tick_marks, class_names)\n",
    "plt.yticks(tick_marks, class_names)\n",
    "sns.heatmap(pd.DataFrame(cf_matrix0), annot=True, cmap=\"YlGnBu\" ,fmt='g')\n",
    "ax.xaxis.set_label_position(\"top\")\n",
    "plt.tight_layout()\n",
    "plt.title('Confusion matrix', y=1.1)\n",
    "plt.ylabel('Actual label')\n",
    "plt.xlabel('Predicted label')\n",
    "print(metrics.classification_report(y_test_sm_nc, y_pred_sm_nc))\n",
    "print(accuracy_score(GNB.predict(X_train_sm_nc),y_train_sm_nc))"
   ]
  },
  {
   "cell_type": "code",
   "execution_count": 59,
   "id": "1aefa286",
   "metadata": {},
   "outputs": [
    {
     "name": "stdout",
     "output_type": "stream",
     "text": [
      "              precision    recall  f1-score   support\n",
      "\n",
      "         0.0       0.85      1.00      0.92      5067\n",
      "         1.0       1.00      0.43      0.60      1595\n",
      "\n",
      "    accuracy                           0.86      6662\n",
      "   macro avg       0.92      0.72      0.76      6662\n",
      "weighted avg       0.88      0.86      0.84      6662\n",
      "\n",
      "0.8610568983636091\n"
     ]
    },
    {
     "data": {
      "image/png": "[encoded data removed]",
      "text/plain": [
       "<Figure size 432x288 with 2 Axes>"
      ]
     },
     "metadata": {
      "needs_background": "light"
     },
     "output_type": "display_data"
    }
   ],
   "source": [
    "GB = GradientBoostingClassifier()\n",
    "GB = GB.fit(X_train_sm_nc, y_train_sm_nc)\n",
    "y_pred_sm_nc = GB.predict(X_test_sm_nc)\n",
    "cf_matrix0 = metrics.confusion_matrix(y_test_sm_nc, y_pred_sm_nc)\n",
    "class_names=[0,1] # name of classes\n",
    "fig, ax = plt.subplots()\n",
    "tick_marks = np.arange(len(class_names))\n",
    "plt.xticks(tick_marks, class_names)\n",
    "plt.yticks(tick_marks, class_names)\n",
    "sns.heatmap(pd.DataFrame(cf_matrix0), annot=True, cmap=\"YlGnBu\" ,fmt='g')\n",
    "ax.xaxis.set_label_position(\"top\")\n",
    "plt.tight_layout()\n",
    "plt.title('Confusion matrix', y=1.1)\n",
    "plt.ylabel('Actual label')\n",
    "plt.xlabel('Predicted label')\n",
    "print(metrics.classification_report(y_test_sm_nc, y_pred_sm_nc))\n",
    "print(accuracy_score(GB.predict(X_train_sm_nc),y_train_sm_nc))"
   ]
  },
  {
   "cell_type": "code",
   "execution_count": 60,
   "id": "df0418b4",
   "metadata": {},
   "outputs": [],
   "source": [
    "model_lr = LogisticRegression().fit(X_train_sm_nc, y_train_sm_nc)\n",
    "probs_lr = model_lr.predict_proba(X_test_sm_nc)[:, 1]\n",
    "\n",
    "model_dt = DecisionTreeClassifier().fit(X_train_sm_nc, y_train_sm_nc)\n",
    "probs_dt = model_dt.predict_proba(X_test_sm_nc)[:, 1]\n",
    "\n",
    "model_rf = RandomForestClassifier().fit(X_train_sm_nc, y_train_sm_nc)\n",
    "probs_rf = model_rf.predict_proba(X_test_sm_nc)[:, 1]\n",
    "\n",
    "model_knn = KNeighborsClassifier().fit(X_train_sm_nc, y_train_sm_nc)\n",
    "probs_knn = model_knn.predict_proba(X_test_sm_nc)[:, 1]\n",
    "\n",
    "model_nb = GaussianNB().fit(X_train_sm_nc, y_train_sm_nc)\n",
    "probs_nb = model_nb.predict_proba(X_test_sm_nc)[:, 1]\n",
    "\n",
    "model_gb = GradientBoostingClassifier().fit(X_train_sm_nc, y_train_sm_nc)\n",
    "probs_gb = model_gb.predict_proba(X_test_sm_nc)[:, 1]"
   ]
  },
  {
   "cell_type": "code",
   "execution_count": 61,
   "id": "331c0687",
   "metadata": {
    "scrolled": true
   },
   "outputs": [
    {
     "data": {
      "text/plain": [
       "<matplotlib.legend.Legend at 0x12d782e50>"
      ]
     },
     "execution_count": 61,
     "metadata": {},
     "output_type": "execute_result"
    },
    {
     "data": {
      "image/png": "[encoded data removed]",
      "text/plain": [
       "<Figure size 864x504 with 1 Axes>"
      ]
     },
     "metadata": {
      "needs_background": "light"
     },
     "output_type": "display_data"
    }
   ],
   "source": [
    "from sklearn.metrics import roc_auc_score\n",
    "from sklearn.metrics import roc_curve\n",
    "auc_lr = roc_auc_score(y_test_sm_nc, probs_lr)\n",
    "fpr_lr, tpr_lr, thresholds_lr = roc_curve(y_test_sm_nc, probs_lr)\n",
    "\n",
    "auc_dt = roc_auc_score(y_test_sm_nc, probs_dt)\n",
    "fpr_dt, tpr_dt, thresholds_dt = roc_curve(y_test_sm_nc, probs_dt)\n",
    "\n",
    "auc_rf = roc_auc_score(y_test_sm_nc, probs_rf)\n",
    "fpr_rf, tpr_rf, thresholds_rf = roc_curve(y_test_sm_nc, probs_rf)\n",
    "\n",
    "auc_knn = roc_auc_score(y_test_sm_nc, probs_knn)\n",
    "fpr_knn, tpr_knn, thresholds_knn = roc_curve(y_test_sm_nc, probs_knn)\n",
    "\n",
    "auc_nb = roc_auc_score(y_test_sm_nc, probs_nb)\n",
    "fpr_nb, tpr_nb, thresholds_nb = roc_curve(y_test_sm_nc, probs_nb)\n",
    "\n",
    "auc_gb = roc_auc_score(y_test_sm_nc, probs_gb)\n",
    "fpr_gb, tpr_gb, thresholds_gb = roc_curve(y_test_sm_nc, probs_gb)\n",
    "\n",
    "\n",
    "\n",
    "plt.figure(figsize=(12, 7))\n",
    "plt.plot(fpr_lr, tpr_lr, label=f'AUC (Logistic Regression) = {auc_lr:.2f}')\n",
    "plt.plot(fpr_dt, tpr_dt, label=f'AUC (Decision Tree) = {auc_dt:.2f}')\n",
    "plt.plot(fpr_rf, tpr_rf, label=f'AUC (Random Forests) = {auc_rf:.2f}')\n",
    "plt.plot(fpr_knn, tpr_knn, label=f'AUC (KNN) = {auc_knn:.2f}')\n",
    "plt.plot(fpr_nb, tpr_nb, label=f'AUC (Naive Bayes) = {auc_nb:.2f}')\n",
    "plt.plot(fpr_gb, tpr_gb, label=f'AUC (Gradient Boosting) = {auc_gb:.2f}')\n",
    "plt.plot([0, 1], [0, 1], color='blue', linestyle='--', label='Baseline')\n",
    "plt.title('ROC Curve', size=20)\n",
    "plt.xlabel('False Positive Rate', size=14)\n",
    "plt.ylabel('True Positive Rate', size=14)\n",
    "plt.legend()"
   ]
  },
  {
   "cell_type": "code",
   "execution_count": 107,
   "id": "99bd8b1e",
   "metadata": {},
   "outputs": [],
   "source": [
    "#Gridsearch for RF \n",
    "from sklearn.model_selection import GridSearchCV \n",
    "from sklearn.model_selection import ParameterGrid\n",
    "# Number of trees in random forest \n",
    "n_estimators = [50,100,200] # [50, 100, 200, 500] \n",
    "# Maximum number of levels in tree \n",
    "max_depth = [None, 5 , 10, 20] \n",
    "# max_depth.append(None) \n",
    "# Number of features to consider at every split \n",
    "max_features = [ 1, 3 , 'sqrt', 10 ] \n",
    "\n",
    "# Create the random grid \n",
    "random_grid1 = {'n_estimators': n_estimators, 'max_features': max_features, 'max_depth': max_depth} \n",
    "rf = RandomForestClassifier() \n",
    " \n",
    "rf_random1 = GridSearchCV(estimator = rf, param_grid = random_grid1, scoring = 'accuracy')"
   ]
  },
  {
   "cell_type": "code",
   "execution_count": 108,
   "id": "f43a97ac",
   "metadata": {},
   "outputs": [
    {
     "data": {
      "text/plain": [
       "[{'max_depth': None, 'max_features': 1, 'n_estimators': 50},\n",
       " {'max_depth': None, 'max_features': 1, 'n_estimators': 100},\n",
       " {'max_depth': None, 'max_features': 1, 'n_estimators': 200},\n",
       " {'max_depth': None, 'max_features': 3, 'n_estimators': 50},\n",
       " {'max_depth': None, 'max_features': 3, 'n_estimators': 100},\n",
       " {'max_depth': None, 'max_features': 3, 'n_estimators': 200},\n",
       " {'max_depth': None, 'max_features': 'sqrt', 'n_estimators': 50},\n",
       " {'max_depth': None, 'max_features': 'sqrt', 'n_estimators': 100},\n",
       " {'max_depth': None, 'max_features': 'sqrt', 'n_estimators': 200},\n",
       " {'max_depth': None, 'max_features': 10, 'n_estimators': 50},\n",
       " {'max_depth': None, 'max_features': 10, 'n_estimators': 100},\n",
       " {'max_depth': None, 'max_features': 10, 'n_estimators': 200},\n",
       " {'max_depth': 5, 'max_features': 1, 'n_estimators': 50},\n",
       " {'max_depth': 5, 'max_features': 1, 'n_estimators': 100},\n",
       " {'max_depth': 5, 'max_features': 1, 'n_estimators': 200},\n",
       " {'max_depth': 5, 'max_features': 3, 'n_estimators': 50},\n",
       " {'max_depth': 5, 'max_features': 3, 'n_estimators': 100},\n",
       " {'max_depth': 5, 'max_features': 3, 'n_estimators': 200},\n",
       " {'max_depth': 5, 'max_features': 'sqrt', 'n_estimators': 50},\n",
       " {'max_depth': 5, 'max_features': 'sqrt', 'n_estimators': 100},\n",
       " {'max_depth': 5, 'max_features': 'sqrt', 'n_estimators': 200},\n",
       " {'max_depth': 5, 'max_features': 10, 'n_estimators': 50},\n",
       " {'max_depth': 5, 'max_features': 10, 'n_estimators': 100},\n",
       " {'max_depth': 5, 'max_features': 10, 'n_estimators': 200},\n",
       " {'max_depth': 10, 'max_features': 1, 'n_estimators': 50},\n",
       " {'max_depth': 10, 'max_features': 1, 'n_estimators': 100},\n",
       " {'max_depth': 10, 'max_features': 1, 'n_estimators': 200},\n",
       " {'max_depth': 10, 'max_features': 3, 'n_estimators': 50},\n",
       " {'max_depth': 10, 'max_features': 3, 'n_estimators': 100},\n",
       " {'max_depth': 10, 'max_features': 3, 'n_estimators': 200},\n",
       " {'max_depth': 10, 'max_features': 'sqrt', 'n_estimators': 50},\n",
       " {'max_depth': 10, 'max_features': 'sqrt', 'n_estimators': 100},\n",
       " {'max_depth': 10, 'max_features': 'sqrt', 'n_estimators': 200},\n",
       " {'max_depth': 10, 'max_features': 10, 'n_estimators': 50},\n",
       " {'max_depth': 10, 'max_features': 10, 'n_estimators': 100},\n",
       " {'max_depth': 10, 'max_features': 10, 'n_estimators': 200},\n",
       " {'max_depth': 20, 'max_features': 1, 'n_estimators': 50},\n",
       " {'max_depth': 20, 'max_features': 1, 'n_estimators': 100},\n",
       " {'max_depth': 20, 'max_features': 1, 'n_estimators': 200},\n",
       " {'max_depth': 20, 'max_features': 3, 'n_estimators': 50},\n",
       " {'max_depth': 20, 'max_features': 3, 'n_estimators': 100},\n",
       " {'max_depth': 20, 'max_features': 3, 'n_estimators': 200},\n",
       " {'max_depth': 20, 'max_features': 'sqrt', 'n_estimators': 50},\n",
       " {'max_depth': 20, 'max_features': 'sqrt', 'n_estimators': 100},\n",
       " {'max_depth': 20, 'max_features': 'sqrt', 'n_estimators': 200},\n",
       " {'max_depth': 20, 'max_features': 10, 'n_estimators': 50},\n",
       " {'max_depth': 20, 'max_features': 10, 'n_estimators': 100},\n",
       " {'max_depth': 20, 'max_features': 10, 'n_estimators': 200}]"
      ]
     },
     "execution_count": 108,
     "metadata": {},
     "output_type": "execute_result"
    }
   ],
   "source": [
    "list(ParameterGrid(random_grid1))"
   ]
  },
  {
   "cell_type": "code",
   "execution_count": 109,
   "id": "5963b304",
   "metadata": {},
   "outputs": [],
   "source": [
    "rf_grid_result = rf_random1.fit(X_train_sm_nc, y_train_sm_nc)"
   ]
  },
  {
   "cell_type": "code",
   "execution_count": 110,
   "id": "1b9865c6",
   "metadata": {},
   "outputs": [
    {
     "data": {
      "text/plain": [
       "{'max_depth': None, 'max_features': 10, 'n_estimators': 200}"
      ]
     },
     "execution_count": 110,
     "metadata": {},
     "output_type": "execute_result"
    }
   ],
   "source": [
    "#Show best parameters\n",
    "rf_grid_result.best_params_"
   ]
  },
  {
   "cell_type": "code",
   "execution_count": 111,
   "id": "b4df47b7",
   "metadata": {
    "scrolled": true
   },
   "outputs": [
    {
     "name": "stdout",
     "output_type": "stream",
     "text": [
      "              precision    recall  f1-score   support\n",
      "\n",
      "         0.0       0.94      0.95      0.95      5067\n",
      "         1.0       0.84      0.82      0.83      1595\n",
      "\n",
      "    accuracy                           0.92      6662\n",
      "   macro avg       0.89      0.88      0.89      6662\n",
      "weighted avg       0.92      0.92      0.92      6662\n",
      "\n",
      "0.950270229695241\n"
     ]
    },
    {
     "data": {
      "image/png": "[encoded data removed]",
      "text/plain": [
       "<Figure size 432x288 with 2 Axes>"
      ]
     },
     "metadata": {
      "needs_background": "light"
     },
     "output_type": "display_data"
    }
   ],
   "source": [
    "rf2 = RandomForestClassifier(max_depth = None, max_features = 10, n_estimators = 100)\n",
    "rf2 = rf2.fit(X_train_sm_nc, y_train_sm_nc)\n",
    "y_pred_sm_nc = rf2.predict(X_test_sm_nc)\n",
    "print(metrics.classification_report(y_test_sm_nc,y_pred_sm_nc )) \n",
    "# use heat map to show confusion matrix\n",
    "cf_matrix2 = metrics.confusion_matrix(y_test_sm_nc, y_pred_sm_nc)\n",
    "class_names=[0,1] # name of classes\n",
    "fig, ax = plt.subplots()\n",
    "tick_marks = np.arange(len(class_names))\n",
    "plt.xticks(tick_marks, class_names)\n",
    "plt.yticks(tick_marks, class_names)\n",
    "sns.heatmap(pd.DataFrame(cf_matrix2), annot=True, cmap=\"YlGnBu\" ,fmt='g')\n",
    "ax.xaxis.set_label_position(\"top\")\n",
    "plt.tight_layout()\n",
    "plt.title('Confusion matrix', y=1.1)\n",
    "plt.ylabel('Actual label')\n",
    "plt.xlabel('Predicted label')\n",
    "print(accuracy_score(y_train_sm_nc, rf2.predict(X_train_sm_nc)))"
   ]
  },
  {
   "cell_type": "code",
   "execution_count": 112,
   "id": "c2e3b929",
   "metadata": {},
   "outputs": [],
   "source": [
    "from sklearn.model_selection import cross_val_score\n",
    "all_accuracies = cross_val_score(estimator=rf2, X=X_train_sm_nc, y=y_train_sm_nc, cv=10)"
   ]
  },
  {
   "cell_type": "code",
   "execution_count": 113,
   "id": "d4e4696e",
   "metadata": {},
   "outputs": [
    {
     "name": "stdout",
     "output_type": "stream",
     "text": [
      "[0.91369606 0.90881801 0.91294559 0.91557223 0.91403904 0.9024024\n",
      " 0.91704204 0.91591592 0.91704204 0.90578078]\n"
     ]
    }
   ],
   "source": [
    "#Show all accuracies\n",
    "print(all_accuracies)"
   ]
  },
  {
   "cell_type": "code",
   "execution_count": 114,
   "id": "0a847a23",
   "metadata": {},
   "outputs": [
    {
     "name": "stdout",
     "output_type": "stream",
     "text": [
      "0.9123254117156556\n"
     ]
    }
   ],
   "source": [
    "print(all_accuracies.mean())"
   ]
  },
  {
   "cell_type": "code",
   "execution_count": 115,
   "id": "1beae229",
   "metadata": {},
   "outputs": [
    {
     "name": "stdout",
     "output_type": "stream",
     "text": [
      "0.0047615832816270695\n"
     ]
    }
   ],
   "source": [
    "print(all_accuracies.std())"
   ]
  },
  {
   "cell_type": "markdown",
   "id": "26841373",
   "metadata": {},
   "source": [
    "# Cancellation"
   ]
  },
  {
   "cell_type": "markdown",
   "id": "be0e7448",
   "metadata": {},
   "source": [
    "## Model Training and Testing"
   ]
  },
  {
   "cell_type": "code",
   "execution_count": 116,
   "id": "c1d2a32a",
   "metadata": {},
   "outputs": [
    {
     "data": {
      "text/html": [
       "<div>\n",
       "<style scoped>\n",
       "    .dataframe tbody tr th:only-of-type {\n",
       "        vertical-align: middle;\n",
       "    }\n",
       "\n",
       "    .dataframe tbody tr th {\n",
       "        vertical-align: top;\n",
       "    }\n",
       "\n",
       "    .dataframe thead th {\n",
       "        text-align: right;\n",
       "    }\n",
       "</style>\n",
       "<table border=\"1\" class=\"dataframe\">\n",
       "  <thead>\n",
       "    <tr style=\"text-align: right;\">\n",
       "      <th></th>\n",
       "      <th>Cancelled</th>\n",
       "      <th>Age</th>\n",
       "      <th>Gender</th>\n",
       "      <th>Salary</th>\n",
       "      <th>Distance</th>\n",
       "      <th>daily_cleaning_frequency</th>\n",
       "      <th>Insurance</th>\n",
       "    </tr>\n",
       "  </thead>\n",
       "  <tbody>\n",
       "    <tr>\n",
       "      <th>0</th>\n",
       "      <td>0</td>\n",
       "      <td>21.0</td>\n",
       "      <td>0</td>\n",
       "      <td>20000</td>\n",
       "      <td>50</td>\n",
       "      <td>3</td>\n",
       "      <td>0</td>\n",
       "    </tr>\n",
       "    <tr>\n",
       "      <th>1</th>\n",
       "      <td>0</td>\n",
       "      <td>38.0</td>\n",
       "      <td>1</td>\n",
       "      <td>40000</td>\n",
       "      <td>5</td>\n",
       "      <td>1</td>\n",
       "      <td>1</td>\n",
       "    </tr>\n",
       "    <tr>\n",
       "      <th>2</th>\n",
       "      <td>0</td>\n",
       "      <td>32.0</td>\n",
       "      <td>1</td>\n",
       "      <td>40000</td>\n",
       "      <td>10</td>\n",
       "      <td>1</td>\n",
       "      <td>0</td>\n",
       "    </tr>\n",
       "    <tr>\n",
       "      <th>3</th>\n",
       "      <td>2</td>\n",
       "      <td>18.0</td>\n",
       "      <td>1</td>\n",
       "      <td>20000</td>\n",
       "      <td>5</td>\n",
       "      <td>3</td>\n",
       "      <td>0</td>\n",
       "    </tr>\n",
       "    <tr>\n",
       "      <th>4</th>\n",
       "      <td>3</td>\n",
       "      <td>25.0</td>\n",
       "      <td>1</td>\n",
       "      <td>60000</td>\n",
       "      <td>5</td>\n",
       "      <td>1</td>\n",
       "      <td>1</td>\n",
       "    </tr>\n",
       "    <tr>\n",
       "      <th>...</th>\n",
       "      <td>...</td>\n",
       "      <td>...</td>\n",
       "      <td>...</td>\n",
       "      <td>...</td>\n",
       "      <td>...</td>\n",
       "      <td>...</td>\n",
       "      <td>...</td>\n",
       "    </tr>\n",
       "    <tr>\n",
       "      <th>26308</th>\n",
       "      <td>0</td>\n",
       "      <td>30.0</td>\n",
       "      <td>0</td>\n",
       "      <td>80000</td>\n",
       "      <td>5</td>\n",
       "      <td>2</td>\n",
       "      <td>0</td>\n",
       "    </tr>\n",
       "    <tr>\n",
       "      <th>26309</th>\n",
       "      <td>0</td>\n",
       "      <td>55.0</td>\n",
       "      <td>0</td>\n",
       "      <td>40000</td>\n",
       "      <td>50</td>\n",
       "      <td>0</td>\n",
       "      <td>0</td>\n",
       "    </tr>\n",
       "    <tr>\n",
       "      <th>26310</th>\n",
       "      <td>0</td>\n",
       "      <td>36.0</td>\n",
       "      <td>1</td>\n",
       "      <td>60000</td>\n",
       "      <td>2</td>\n",
       "      <td>3</td>\n",
       "      <td>0</td>\n",
       "    </tr>\n",
       "    <tr>\n",
       "      <th>26311</th>\n",
       "      <td>0</td>\n",
       "      <td>43.0</td>\n",
       "      <td>0</td>\n",
       "      <td>100000</td>\n",
       "      <td>20</td>\n",
       "      <td>2</td>\n",
       "      <td>0</td>\n",
       "    </tr>\n",
       "    <tr>\n",
       "      <th>26312</th>\n",
       "      <td>0</td>\n",
       "      <td>36.0</td>\n",
       "      <td>0</td>\n",
       "      <td>80000</td>\n",
       "      <td>50</td>\n",
       "      <td>1</td>\n",
       "      <td>1</td>\n",
       "    </tr>\n",
       "  </tbody>\n",
       "</table>\n",
       "<p>26313 rows × 7 columns</p>\n",
       "</div>"
      ],
      "text/plain": [
       "       Cancelled   Age  Gender  Salary  Distance  daily_cleaning_frequency  \\\n",
       "0              0  21.0       0   20000        50                         3   \n",
       "1              0  38.0       1   40000         5                         1   \n",
       "2              0  32.0       1   40000        10                         1   \n",
       "3              2  18.0       1   20000         5                         3   \n",
       "4              3  25.0       1   60000         5                         1   \n",
       "...          ...   ...     ...     ...       ...                       ...   \n",
       "26308          0  30.0       0   80000         5                         2   \n",
       "26309          0  55.0       0   40000        50                         0   \n",
       "26310          0  36.0       1   60000         2                         3   \n",
       "26311          0  43.0       0  100000        20                         2   \n",
       "26312          0  36.0       0   80000        50                         1   \n",
       "\n",
       "       Insurance  \n",
       "0              0  \n",
       "1              1  \n",
       "2              0  \n",
       "3              0  \n",
       "4              1  \n",
       "...          ...  \n",
       "26308          0  \n",
       "26309          0  \n",
       "26310          0  \n",
       "26311          0  \n",
       "26312          1  \n",
       "\n",
       "[26313 rows x 7 columns]"
      ]
     },
     "execution_count": 116,
     "metadata": {},
     "output_type": "execute_result"
    }
   ],
   "source": [
    "data_cancellation = data[[\"Cancelled\",\"Age\", \"Gender\", \"Salary\", \"Distance\", \"daily_cleaning_frequency\", \"Insurance\"]]\n",
    "data_cancellation"
   ]
  },
  {
   "cell_type": "code",
   "execution_count": 117,
   "id": "efded15d",
   "metadata": {},
   "outputs": [],
   "source": [
    "from sklearn.model_selection import train_test_split\n",
    "X,y = data_cancellation.iloc[:,1:], data_cancellation['Cancelled']\n",
    "X_train, X_test, y_train, y_test = train_test_split(X, y, test_size=0.2, random_state=42)"
   ]
  },
  {
   "cell_type": "code",
   "execution_count": 118,
   "id": "22c135f4",
   "metadata": {},
   "outputs": [
    {
     "data": {
      "text/plain": [
       "0    24878\n",
       "1      527\n",
       "3      429\n",
       "2      322\n",
       "4      157\n",
       "Name: Cancelled, dtype: int64"
      ]
     },
     "execution_count": 118,
     "metadata": {},
     "output_type": "execute_result"
    }
   ],
   "source": [
    "y.value_counts()"
   ]
  },
  {
   "cell_type": "code",
   "execution_count": 119,
   "id": "2f5a7969",
   "metadata": {},
   "outputs": [],
   "source": [
    "from imblearn.over_sampling import SMOTENC\n",
    "\n",
    "oversample_cancellation = SMOTENC(categorical_features=[1,2,3,4,5]\n",
    "               , random_state=123, sampling_strategy = {1:3000,2:2400,3:1800,4:600})\n",
    "X_sm_nc_cancellation, y_sm_nc_cancellation = oversample_cancellation.fit_resample(X, y)"
   ]
  },
  {
   "cell_type": "code",
   "execution_count": 120,
   "id": "c2d662bb",
   "metadata": {
    "scrolled": true
   },
   "outputs": [
    {
     "data": {
      "text/plain": [
       "0    24878\n",
       "1     3000\n",
       "2     2400\n",
       "3     1800\n",
       "4      600\n",
       "Name: Cancelled, dtype: int64"
      ]
     },
     "execution_count": 120,
     "metadata": {},
     "output_type": "execute_result"
    }
   ],
   "source": [
    "y_sm_nc_cancellation.value_counts()"
   ]
  },
  {
   "cell_type": "code",
   "execution_count": 121,
   "id": "b918e90a",
   "metadata": {},
   "outputs": [
    {
     "data": {
      "text/plain": [
       "Age        Gender  Salary  Distance  daily_cleaning_frequency  Insurance\n",
       "31.000000  1       60000   5         1                         1            26\n",
       "28.000000  0       40000   5         1                         1            21\n",
       "24.000000  1       20000   10        2                         1            21\n",
       "           0       40000   10        2                         1            21\n",
       "34.000000  0       20000   5         2                         1            19\n",
       "                                                                            ..\n",
       "27.695532  1       80000   5         1                         1             1\n",
       "27.697704  1       20000   10        2                         1             1\n",
       "27.699845  1       40000   10        2                         1             1\n",
       "27.701604  1       60000   5         2                         0             1\n",
       "63.000000  0       80000   50        2                         1             1\n",
       "Length: 15881, dtype: int64"
      ]
     },
     "execution_count": 121,
     "metadata": {},
     "output_type": "execute_result"
    }
   ],
   "source": [
    "X_sm_nc_cancellation.value_counts()"
   ]
  },
  {
   "cell_type": "code",
   "execution_count": 122,
   "id": "06f3c8f0",
   "metadata": {},
   "outputs": [],
   "source": [
    "X_train_sm_nc_cancellation, X_test_sm_nc_cancellation, y_train_sm_nc_cancellation, y_test_sm_nc_cancellation = train_test_split(X_sm_nc_cancellation, y_sm_nc_cancellation, test_size=0.2, random_state=42)"
   ]
  },
  {
   "cell_type": "markdown",
   "id": "9ba2bd7b",
   "metadata": {},
   "source": [
    "## Logistic Regression Cancellation "
   ]
  },
  {
   "cell_type": "code",
   "execution_count": 123,
   "id": "e5e9630a",
   "metadata": {},
   "outputs": [
    {
     "name": "stdout",
     "output_type": "stream",
     "text": [
      "              precision    recall  f1-score   support\n",
      "\n",
      "           0       0.76      1.00      0.86      4959\n",
      "           1       0.00      0.00      0.00       611\n",
      "           2       0.00      0.00      0.00       502\n",
      "           3       0.00      0.00      0.00       352\n",
      "           4       0.00      0.00      0.00       112\n",
      "\n",
      "    accuracy                           0.76      6536\n",
      "   macro avg       0.15      0.20      0.17      6536\n",
      "weighted avg       0.58      0.76      0.65      6536\n",
      "\n",
      "0.7619539438451534\n"
     ]
    },
    {
     "name": "stderr",
     "output_type": "stream",
     "text": [
      "/Users/annhuang/miniforge3/lib/python3.9/site-packages/sklearn/metrics/_classification.py:1334: UndefinedMetricWarning: Precision and F-score are ill-defined and being set to 0.0 in labels with no predicted samples. Use `zero_division` parameter to control this behavior.\n",
      "  _warn_prf(average, modifier, msg_start, len(result))\n",
      "/Users/annhuang/miniforge3/lib/python3.9/site-packages/sklearn/metrics/_classification.py:1334: UndefinedMetricWarning: Precision and F-score are ill-defined and being set to 0.0 in labels with no predicted samples. Use `zero_division` parameter to control this behavior.\n",
      "  _warn_prf(average, modifier, msg_start, len(result))\n",
      "/Users/annhuang/miniforge3/lib/python3.9/site-packages/sklearn/metrics/_classification.py:1334: UndefinedMetricWarning: Precision and F-score are ill-defined and being set to 0.0 in labels with no predicted samples. Use `zero_division` parameter to control this behavior.\n",
      "  _warn_prf(average, modifier, msg_start, len(result))\n"
     ]
    },
    {
     "data": {
      "image/png": "[encoded data removed]",
      "text/plain": [
       "<Figure size 432x288 with 2 Axes>"
      ]
     },
     "metadata": {
      "needs_background": "light"
     },
     "output_type": "display_data"
    }
   ],
   "source": [
    "LR_cancellation = LogisticRegression()\n",
    "LR_cancellation = LR_cancellation.fit(X_train_sm_nc_cancellation, y_train_sm_nc_cancellation)\n",
    "y_pred_sm_nc_cancellation = LR_cancellation.predict(X_test_sm_nc_cancellation)\n",
    "cf_matrix0_cancellation = metrics.confusion_matrix(y_test_sm_nc_cancellation, y_pred_sm_nc_cancellation)\n",
    "class_names_cancellation=[0,1] # name of classes\n",
    "fig, ax = plt.subplots()\n",
    "tick_marks = np.arange(len(class_names_cancellation))\n",
    "plt.xticks(tick_marks, class_names_cancellation)\n",
    "plt.yticks(tick_marks, class_names_cancellation)\n",
    "sns.heatmap(pd.DataFrame(cf_matrix0_cancellation), annot=True, cmap=\"YlGnBu\" ,fmt='g')\n",
    "ax.xaxis.set_label_position(\"top\")\n",
    "plt.tight_layout()\n",
    "plt.title('Confusion matrix', y=1.1)\n",
    "plt.ylabel('Actual label')\n",
    "plt.xlabel('Predicted label')\n",
    "print(metrics.classification_report(y_test_sm_nc_cancellation, y_pred_sm_nc_cancellation))\n",
    "print(accuracy_score(LR.predict(X_train_sm_nc_cancellation),y_train_sm_nc_cancellation))"
   ]
  },
  {
   "cell_type": "markdown",
   "id": "fb05a3e2",
   "metadata": {},
   "source": [
    "## KNN Cancellation"
   ]
  },
  {
   "cell_type": "code",
   "execution_count": 124,
   "id": "1b1b2082",
   "metadata": {
    "scrolled": true
   },
   "outputs": [
    {
     "name": "stdout",
     "output_type": "stream",
     "text": [
      "              precision    recall  f1-score   support\n",
      "\n",
      "           0       0.82      0.92      0.87      4959\n",
      "           1       0.55      0.38      0.45       611\n",
      "           2       0.60      0.42      0.49       502\n",
      "           3       0.42      0.22      0.29       352\n",
      "           4       0.26      0.08      0.12       112\n",
      "\n",
      "    accuracy                           0.78      6536\n",
      "   macro avg       0.53      0.40      0.44      6536\n",
      "weighted avg       0.75      0.78      0.76      6536\n",
      "\n",
      "0.8362787850967791\n"
     ]
    },
    {
     "data": {
      "image/png": "[encoded data removed]",
      "text/plain": [
       "<Figure size 432x288 with 2 Axes>"
      ]
     },
     "metadata": {
      "needs_background": "light"
     },
     "output_type": "display_data"
    }
   ],
   "source": [
    "KNN_cancellation = KNeighborsClassifier()\n",
    "KNN_cancellation = KNN_cancellation.fit(X_train_sm_nc_cancellation, y_train_sm_nc_cancellation)\n",
    "y_pred_sm_nc_cancellation = KNN_cancellation.predict(X_test_sm_nc_cancellation)\n",
    "cf_matrix0_cancellation = metrics.confusion_matrix(y_test_sm_nc_cancellation, y_pred_sm_nc_cancellation)\n",
    "class_names_cancellation=[0,1] # name of classes\n",
    "fig, ax = plt.subplots()\n",
    "tick_marks = np.arange(len(class_names_cancellation))\n",
    "plt.xticks(tick_marks, class_names_cancellation)\n",
    "plt.yticks(tick_marks, class_names_cancellation)\n",
    "sns.heatmap(pd.DataFrame(cf_matrix0_cancellation), annot=True, cmap=\"YlGnBu\" ,fmt='g')\n",
    "ax.xaxis.set_label_position(\"top\")\n",
    "plt.tight_layout()\n",
    "plt.title('Confusion matrix', y=1.1)\n",
    "plt.ylabel('Actual label')\n",
    "plt.xlabel('Predicted label')\n",
    "print(metrics.classification_report(y_test_sm_nc_cancellation, y_pred_sm_nc_cancellation))\n",
    "print(accuracy_score(KNN_cancellation.predict(X_train_sm_nc_cancellation),y_train_sm_nc_cancellation))"
   ]
  },
  {
   "cell_type": "markdown",
   "id": "c02f2571",
   "metadata": {},
   "source": [
    "## Decision Tree Cancellation"
   ]
  },
  {
   "cell_type": "code",
   "execution_count": 125,
   "id": "6df6190e",
   "metadata": {},
   "outputs": [
    {
     "name": "stdout",
     "output_type": "stream",
     "text": [
      "              precision    recall  f1-score   support\n",
      "\n",
      "           0       0.85      0.95      0.90      4959\n",
      "           1       0.29      0.49      0.36       611\n",
      "           2       0.00      0.00      0.00       502\n",
      "           3       0.00      0.00      0.00       352\n",
      "           4       0.00      0.00      0.00       112\n",
      "\n",
      "    accuracy                           0.76      6536\n",
      "   macro avg       0.23      0.29      0.25      6536\n",
      "weighted avg       0.67      0.76      0.71      6536\n",
      "\n",
      "0.7712110779588401\n"
     ]
    },
    {
     "name": "stderr",
     "output_type": "stream",
     "text": [
      "/Users/annhuang/miniforge3/lib/python3.9/site-packages/sklearn/metrics/_classification.py:1334: UndefinedMetricWarning: Precision and F-score are ill-defined and being set to 0.0 in labels with no predicted samples. Use `zero_division` parameter to control this behavior.\n",
      "  _warn_prf(average, modifier, msg_start, len(result))\n",
      "/Users/annhuang/miniforge3/lib/python3.9/site-packages/sklearn/metrics/_classification.py:1334: UndefinedMetricWarning: Precision and F-score are ill-defined and being set to 0.0 in labels with no predicted samples. Use `zero_division` parameter to control this behavior.\n",
      "  _warn_prf(average, modifier, msg_start, len(result))\n",
      "/Users/annhuang/miniforge3/lib/python3.9/site-packages/sklearn/metrics/_classification.py:1334: UndefinedMetricWarning: Precision and F-score are ill-defined and being set to 0.0 in labels with no predicted samples. Use `zero_division` parameter to control this behavior.\n",
      "  _warn_prf(average, modifier, msg_start, len(result))\n"
     ]
    },
    {
     "data": {
      "image/png": "[encoded data removed]",
      "text/plain": [
       "<Figure size 432x288 with 2 Axes>"
      ]
     },
     "metadata": {
      "needs_background": "light"
     },
     "output_type": "display_data"
    }
   ],
   "source": [
    "DCT_cancellation = DecisionTreeClassifier()\n",
    "DCT_cancellation = DCT_cancellation.fit(X_train_sm_nc_cancellation, y_train_sm_nc_cancellation)\n",
    "y_pred_sm_nc_cancellation = DCT.predict(X_test_sm_nc_cancellation)\n",
    "cf_matrix0_cancellation = metrics.confusion_matrix(y_test_sm_nc_cancellation, y_pred_sm_nc_cancellation)\n",
    "class_names_cancellation=[0,1,2,3,4] # name of classes\n",
    "fig, ax = plt.subplots()\n",
    "tick_marks = np.arange(len(class_names_cancellation))\n",
    "plt.xticks(tick_marks, class_names_cancellation)\n",
    "plt.yticks(tick_marks, class_names_cancellation)\n",
    "sns.heatmap(pd.DataFrame(cf_matrix0_cancellation), annot=True, cmap=\"YlGnBu\" ,fmt='g')\n",
    "ax.xaxis.set_label_position(\"top\")\n",
    "plt.tight_layout()\n",
    "plt.title('Confusion matrix', y=1.1)\n",
    "plt.ylabel('Actual label')\n",
    "plt.xlabel('Predicted label')\n",
    "print(metrics.classification_report(y_test_sm_nc_cancellation, y_pred_sm_nc_cancellation))\n",
    "print(accuracy_score(DCT.predict(X_train_sm_nc_cancellation),y_train_sm_nc_cancellation))"
   ]
  },
  {
   "cell_type": "markdown",
   "id": "c9ae58f7",
   "metadata": {},
   "source": [
    "## Random Forest"
   ]
  },
  {
   "cell_type": "code",
   "execution_count": 126,
   "id": "914870c7",
   "metadata": {},
   "outputs": [
    {
     "name": "stdout",
     "output_type": "stream",
     "text": [
      "              precision    recall  f1-score   support\n",
      "\n",
      "           0       0.86      0.94      0.90      4959\n",
      "           1       0.60      0.44      0.51       611\n",
      "           2       0.65      0.49      0.56       502\n",
      "           3       0.46      0.30      0.36       352\n",
      "           4       0.37      0.18      0.24       112\n",
      "\n",
      "    accuracy                           0.81      6536\n",
      "   macro avg       0.59      0.47      0.51      6536\n",
      "weighted avg       0.79      0.81      0.79      6536\n",
      "\n",
      "0.7333792364776988\n"
     ]
    },
    {
     "data": {
      "image/png": "[encoded data removed]",
      "text/plain": [
       "<Figure size 432x288 with 2 Axes>"
      ]
     },
     "metadata": {
      "needs_background": "light"
     },
     "output_type": "display_data"
    }
   ],
   "source": [
    "RDF_cancellation = RandomForestClassifier()\n",
    "RDF_cancellation = RDF_cancellation.fit(X_train_sm_nc_cancellation, y_train_sm_nc_cancellation)\n",
    "y_pred_sm_nc_cancellation = RDF_cancellation.predict(X_test_sm_nc_cancellation)\n",
    "cf_matrix0_cancellation = metrics.confusion_matrix(y_test_sm_nc_cancellation, y_pred_sm_nc_cancellation)\n",
    "class_names_cancellation=[0,1] # name of classes\n",
    "fig, ax = plt.subplots()\n",
    "tick_marks = np.arange(len(class_names_cancellation))\n",
    "plt.xticks(tick_marks, class_names_cancellation)\n",
    "plt.yticks(tick_marks, class_names_cancellation)\n",
    "sns.heatmap(pd.DataFrame(cf_matrix0_cancellation), annot=True, cmap=\"YlGnBu\" ,fmt='g')\n",
    "ax.xaxis.set_label_position(\"top\")\n",
    "plt.tight_layout()\n",
    "plt.title('Confusion matrix', y=1.1)\n",
    "plt.ylabel('Actual label')\n",
    "plt.xlabel('Predicted label')\n",
    "print(metrics.classification_report(y_test_sm_nc_cancellation, y_pred_sm_nc_cancellation))\n",
    "print(accuracy_score(RDF.predict(X_train_sm_nc_cancellation),y_train_sm_nc_cancellation))"
   ]
  },
  {
   "cell_type": "markdown",
   "id": "7672e7f2",
   "metadata": {},
   "source": [
    "## Gaussian Naive Bayes Cancellation"
   ]
  },
  {
   "cell_type": "code",
   "execution_count": 127,
   "id": "8bf2764a",
   "metadata": {},
   "outputs": [
    {
     "name": "stdout",
     "output_type": "stream",
     "text": [
      "              precision    recall  f1-score   support\n",
      "\n",
      "           0       0.76      1.00      0.86      4959\n",
      "           1       0.00      0.00      0.00       611\n",
      "           2       0.00      0.00      0.00       502\n",
      "           3       0.00      0.00      0.00       352\n",
      "           4       0.00      0.00      0.00       112\n",
      "\n",
      "    accuracy                           0.76      6536\n",
      "   macro avg       0.15      0.20      0.17      6536\n",
      "weighted avg       0.58      0.76      0.65      6536\n",
      "\n",
      "0.7619539438451534\n"
     ]
    },
    {
     "name": "stderr",
     "output_type": "stream",
     "text": [
      "/Users/annhuang/miniforge3/lib/python3.9/site-packages/sklearn/metrics/_classification.py:1334: UndefinedMetricWarning: Precision and F-score are ill-defined and being set to 0.0 in labels with no predicted samples. Use `zero_division` parameter to control this behavior.\n",
      "  _warn_prf(average, modifier, msg_start, len(result))\n",
      "/Users/annhuang/miniforge3/lib/python3.9/site-packages/sklearn/metrics/_classification.py:1334: UndefinedMetricWarning: Precision and F-score are ill-defined and being set to 0.0 in labels with no predicted samples. Use `zero_division` parameter to control this behavior.\n",
      "  _warn_prf(average, modifier, msg_start, len(result))\n",
      "/Users/annhuang/miniforge3/lib/python3.9/site-packages/sklearn/metrics/_classification.py:1334: UndefinedMetricWarning: Precision and F-score are ill-defined and being set to 0.0 in labels with no predicted samples. Use `zero_division` parameter to control this behavior.\n",
      "  _warn_prf(average, modifier, msg_start, len(result))\n"
     ]
    },
    {
     "data": {
      "image/png": "[encoded data removed]",
      "text/plain": [
       "<Figure size 432x288 with 2 Axes>"
      ]
     },
     "metadata": {
      "needs_background": "light"
     },
     "output_type": "display_data"
    }
   ],
   "source": [
    "GNB_cancellation = GaussianNB()\n",
    "GNB_cancellation = GNB_cancellation.fit(X_train_sm_nc_cancellation, y_train_sm_nc_cancellation)\n",
    "y_pred_sm_nc_cancellation = GNB.predict(X_test_sm_nc_cancellation)\n",
    "cf_matrix0_cancellation = metrics.confusion_matrix(y_test_sm_nc_cancellation, y_pred_sm_nc_cancellation)\n",
    "class_names_cancellation=[0,1] # name of classes\n",
    "fig, ax = plt.subplots()\n",
    "tick_marks = np.arange(len(class_names_cancellation))\n",
    "plt.xticks(tick_marks, class_names_cancellation)\n",
    "plt.yticks(tick_marks, class_names_cancellation)\n",
    "sns.heatmap(pd.DataFrame(cf_matrix0_cancellation), annot=True, cmap=\"YlGnBu\" ,fmt='g')\n",
    "ax.xaxis.set_label_position(\"top\")\n",
    "plt.tight_layout()\n",
    "plt.title('Confusion matrix', y=1.1)\n",
    "plt.ylabel('Actual label')\n",
    "plt.xlabel('Predicted label')\n",
    "print(metrics.classification_report(y_test_sm_nc_cancellation, y_pred_sm_nc_cancellation))\n",
    "print(accuracy_score(GNB.predict(X_train_sm_nc_cancellation),y_train_sm_nc_cancellation))"
   ]
  },
  {
   "cell_type": "markdown",
   "id": "467c6027",
   "metadata": {},
   "source": [
    "## Gradient Boosting"
   ]
  },
  {
   "cell_type": "code",
   "execution_count": 128,
   "id": "146733f2",
   "metadata": {},
   "outputs": [
    {
     "name": "stdout",
     "output_type": "stream",
     "text": [
      "              precision    recall  f1-score   support\n",
      "\n",
      "           0       0.85      1.00      0.92      4959\n",
      "           1       0.38      0.42      0.40       611\n",
      "           2       0.00      0.00      0.00       502\n",
      "           3       0.00      0.00      0.00       352\n",
      "           4       0.00      0.00      0.00       112\n",
      "\n",
      "    accuracy                           0.80      6536\n",
      "   macro avg       0.25      0.28      0.26      6536\n",
      "weighted avg       0.68      0.80      0.73      6536\n",
      "\n",
      "0.8001683115293398\n"
     ]
    },
    {
     "name": "stderr",
     "output_type": "stream",
     "text": [
      "/Users/annhuang/miniforge3/lib/python3.9/site-packages/sklearn/metrics/_classification.py:1334: UndefinedMetricWarning: Precision and F-score are ill-defined and being set to 0.0 in labels with no predicted samples. Use `zero_division` parameter to control this behavior.\n",
      "  _warn_prf(average, modifier, msg_start, len(result))\n",
      "/Users/annhuang/miniforge3/lib/python3.9/site-packages/sklearn/metrics/_classification.py:1334: UndefinedMetricWarning: Precision and F-score are ill-defined and being set to 0.0 in labels with no predicted samples. Use `zero_division` parameter to control this behavior.\n",
      "  _warn_prf(average, modifier, msg_start, len(result))\n",
      "/Users/annhuang/miniforge3/lib/python3.9/site-packages/sklearn/metrics/_classification.py:1334: UndefinedMetricWarning: Precision and F-score are ill-defined and being set to 0.0 in labels with no predicted samples. Use `zero_division` parameter to control this behavior.\n",
      "  _warn_prf(average, modifier, msg_start, len(result))\n"
     ]
    },
    {
     "data": {
      "image/png": "[encoded data removed]",
      "text/plain": [
       "<Figure size 432x288 with 2 Axes>"
      ]
     },
     "metadata": {
      "needs_background": "light"
     },
     "output_type": "display_data"
    }
   ],
   "source": [
    "GB_cancellation = GradientBoostingClassifier()\n",
    "GB_cancellation = GB_cancellation.fit(X_train_sm_nc_cancellation, y_train_sm_nc_cancellation)\n",
    "y_pred_sm_nc_cancellation = GB.predict(X_test_sm_nc_cancellation)\n",
    "cf_matrix0_cancellation = metrics.confusion_matrix(y_test_sm_nc_cancellation, y_pred_sm_nc_cancellation)\n",
    "class_names_cancellation=[0,1] # name of classes\n",
    "fig, ax = plt.subplots()\n",
    "tick_marks = np.arange(len(class_names_cancellation))\n",
    "plt.xticks(tick_marks, class_names_cancellation)\n",
    "plt.yticks(tick_marks, class_names_cancellation)\n",
    "sns.heatmap(pd.DataFrame(cf_matrix0_cancellation), annot=True, cmap=\"YlGnBu\" ,fmt='g')\n",
    "ax.xaxis.set_label_position(\"top\")\n",
    "plt.tight_layout()\n",
    "plt.title('Confusion matrix', y=1.1)\n",
    "plt.ylabel('Actual label')\n",
    "plt.xlabel('Predicted label')\n",
    "print(metrics.classification_report(y_test_sm_nc_cancellation, y_pred_sm_nc_cancellation))\n",
    "print(accuracy_score(GB.predict(X_train_sm_nc_cancellation),y_train_sm_nc_cancellation))"
   ]
  },
  {
   "cell_type": "code",
   "execution_count": 131,
   "id": "d1c75270",
   "metadata": {},
   "outputs": [],
   "source": [
    "#RF Gridsearch for cancellation \n",
    "\n",
    "# Number of trees in random forest \n",
    "n_estimators = [50,100,200] # [50, 100, 200, 500] \n",
    "# Maximum number of levels in tree \n",
    "max_depth = [None, 5 , 10, 20] \n",
    "# max_depth.append(None) \n",
    "# Number of features to consider at every split \n",
    "max_features = [ 1, 3 , 'sqrt', 10 ] \n",
    "\n",
    "# Create the random grid \n",
    "random_grid1_can = {'n_estimators': n_estimators, 'max_features': max_features, 'max_depth': max_depth} \n",
    "rf_can = RandomForestClassifier() \n",
    " \n",
    "rf_random1_can = GridSearchCV(estimator = rf_can, param_grid = random_grid1_can, scoring = 'accuracy')"
   ]
  },
  {
   "cell_type": "code",
   "execution_count": 132,
   "id": "0967154b",
   "metadata": {},
   "outputs": [
    {
     "data": {
      "text/plain": [
       "[{'max_depth': None, 'max_features': 1, 'n_estimators': 50},\n",
       " {'max_depth': None, 'max_features': 1, 'n_estimators': 100},\n",
       " {'max_depth': None, 'max_features': 1, 'n_estimators': 200},\n",
       " {'max_depth': None, 'max_features': 3, 'n_estimators': 50},\n",
       " {'max_depth': None, 'max_features': 3, 'n_estimators': 100},\n",
       " {'max_depth': None, 'max_features': 3, 'n_estimators': 200},\n",
       " {'max_depth': None, 'max_features': 'sqrt', 'n_estimators': 50},\n",
       " {'max_depth': None, 'max_features': 'sqrt', 'n_estimators': 100},\n",
       " {'max_depth': None, 'max_features': 'sqrt', 'n_estimators': 200},\n",
       " {'max_depth': None, 'max_features': 10, 'n_estimators': 50},\n",
       " {'max_depth': None, 'max_features': 10, 'n_estimators': 100},\n",
       " {'max_depth': None, 'max_features': 10, 'n_estimators': 200},\n",
       " {'max_depth': 5, 'max_features': 1, 'n_estimators': 50},\n",
       " {'max_depth': 5, 'max_features': 1, 'n_estimators': 100},\n",
       " {'max_depth': 5, 'max_features': 1, 'n_estimators': 200},\n",
       " {'max_depth': 5, 'max_features': 3, 'n_estimators': 50},\n",
       " {'max_depth': 5, 'max_features': 3, 'n_estimators': 100},\n",
       " {'max_depth': 5, 'max_features': 3, 'n_estimators': 200},\n",
       " {'max_depth': 5, 'max_features': 'sqrt', 'n_estimators': 50},\n",
       " {'max_depth': 5, 'max_features': 'sqrt', 'n_estimators': 100},\n",
       " {'max_depth': 5, 'max_features': 'sqrt', 'n_estimators': 200},\n",
       " {'max_depth': 5, 'max_features': 10, 'n_estimators': 50},\n",
       " {'max_depth': 5, 'max_features': 10, 'n_estimators': 100},\n",
       " {'max_depth': 5, 'max_features': 10, 'n_estimators': 200},\n",
       " {'max_depth': 10, 'max_features': 1, 'n_estimators': 50},\n",
       " {'max_depth': 10, 'max_features': 1, 'n_estimators': 100},\n",
       " {'max_depth': 10, 'max_features': 1, 'n_estimators': 200},\n",
       " {'max_depth': 10, 'max_features': 3, 'n_estimators': 50},\n",
       " {'max_depth': 10, 'max_features': 3, 'n_estimators': 100},\n",
       " {'max_depth': 10, 'max_features': 3, 'n_estimators': 200},\n",
       " {'max_depth': 10, 'max_features': 'sqrt', 'n_estimators': 50},\n",
       " {'max_depth': 10, 'max_features': 'sqrt', 'n_estimators': 100},\n",
       " {'max_depth': 10, 'max_features': 'sqrt', 'n_estimators': 200},\n",
       " {'max_depth': 10, 'max_features': 10, 'n_estimators': 50},\n",
       " {'max_depth': 10, 'max_features': 10, 'n_estimators': 100},\n",
       " {'max_depth': 10, 'max_features': 10, 'n_estimators': 200},\n",
       " {'max_depth': 20, 'max_features': 1, 'n_estimators': 50},\n",
       " {'max_depth': 20, 'max_features': 1, 'n_estimators': 100},\n",
       " {'max_depth': 20, 'max_features': 1, 'n_estimators': 200},\n",
       " {'max_depth': 20, 'max_features': 3, 'n_estimators': 50},\n",
       " {'max_depth': 20, 'max_features': 3, 'n_estimators': 100},\n",
       " {'max_depth': 20, 'max_features': 3, 'n_estimators': 200},\n",
       " {'max_depth': 20, 'max_features': 'sqrt', 'n_estimators': 50},\n",
       " {'max_depth': 20, 'max_features': 'sqrt', 'n_estimators': 100},\n",
       " {'max_depth': 20, 'max_features': 'sqrt', 'n_estimators': 200},\n",
       " {'max_depth': 20, 'max_features': 10, 'n_estimators': 50},\n",
       " {'max_depth': 20, 'max_features': 10, 'n_estimators': 100},\n",
       " {'max_depth': 20, 'max_features': 10, 'n_estimators': 200}]"
      ]
     },
     "execution_count": 132,
     "metadata": {},
     "output_type": "execute_result"
    }
   ],
   "source": [
    "list(ParameterGrid(random_grid1_can))"
   ]
  },
  {
   "cell_type": "code",
   "execution_count": 140,
   "id": "2e434721",
   "metadata": {},
   "outputs": [],
   "source": [
    "rf_grid_result_can = rf_random1_can.fit(X_train_sm_nc_cancellation, y_train_sm_nc_cancellation)"
   ]
  },
  {
   "cell_type": "code",
   "execution_count": 141,
   "id": "a9ef4ab7",
   "metadata": {},
   "outputs": [
    {
     "data": {
      "text/plain": [
       "{'max_depth': None, 'max_features': 10, 'n_estimators': 200}"
      ]
     },
     "execution_count": 141,
     "metadata": {},
     "output_type": "execute_result"
    }
   ],
   "source": [
    "#Show best parameters\n",
    "rf_grid_result_can.best_params_"
   ]
  },
  {
   "cell_type": "code",
   "execution_count": 143,
   "id": "6d1ae6e0",
   "metadata": {},
   "outputs": [
    {
     "name": "stdout",
     "output_type": "stream",
     "text": [
      "              precision    recall  f1-score   support\n",
      "\n",
      "           0       0.88      0.96      0.92      4959\n",
      "           1       0.66      0.48      0.56       611\n",
      "           2       0.67      0.55      0.60       502\n",
      "           3       0.53      0.35      0.42       352\n",
      "           4       0.35      0.17      0.23       112\n",
      "\n",
      "    accuracy                           0.84      6536\n",
      "   macro avg       0.62      0.50      0.55      6536\n",
      "weighted avg       0.82      0.84      0.82      6536\n",
      "\n",
      "0.9446484584194017\n"
     ]
    },
    {
     "data": {
      "image/png": "[encoded data removed]",
      "text/plain": [
       "<Figure size 432x288 with 2 Axes>"
      ]
     },
     "metadata": {
      "needs_background": "light"
     },
     "output_type": "display_data"
    }
   ],
   "source": [
    "rf2_can = RandomForestClassifier(max_depth = None, max_features = 10, n_estimators = 200)\n",
    "rf2_can = rf2_can.fit(X_train_sm_nc_cancellation, y_train_sm_nc_cancellation)\n",
    "y_pred_sm_nc_cancellation = rf2_can.predict(X_test_sm_nc_cancellation)\n",
    "print(metrics.classification_report(y_test_sm_nc_cancellation, y_pred_sm_nc_cancellation)) \n",
    "# use heat map to show confusion matrix\n",
    "cf_matrix2_can = metrics.confusion_matrix(y_test_sm_nc_cancellation, y_pred_sm_nc_cancellation)\n",
    "class_names=[0,1] # name of classes\n",
    "fig, ax = plt.subplots() \n",
    "tick_marks = np.arange(len(class_names))\n",
    "plt.xticks(tick_marks, class_names)\n",
    "plt.yticks(tick_marks, class_names)\n",
    "sns.heatmap(pd.DataFrame(cf_matrix2_can), annot=True, cmap=\"YlGnBu\" ,fmt='g')\n",
    "ax.xaxis.set_label_position(\"top\")\n",
    "plt.tight_layout()\n",
    "plt.title('Confusion matrix', y=1.1)\n",
    "plt.ylabel('Actual label')\n",
    "plt.xlabel('Predicted label')\n",
    "print(accuracy_score(y_train_sm_nc_cancellation, rf2_can.predict(X_train_sm_nc_cancellation)))\n"
   ]
  },
  {
   "cell_type": "code",
   "execution_count": 144,
   "id": "c878ecd6",
   "metadata": {},
   "outputs": [],
   "source": [
    "all_accuracies_can = cross_val_score(estimator=rf2_can, X=X_train_sm_nc_cancellation, y=y_train_sm_nc_cancellation, cv=10)"
   ]
  },
  {
   "cell_type": "code",
   "execution_count": 169,
   "id": "6331fc42",
   "metadata": {},
   "outputs": [
    {
     "name": "stdout",
     "output_type": "stream",
     "text": [
      "[0.82791587 0.83671128 0.8427697  0.83550115 0.83550115 0.82938026\n",
      " 0.83205815 0.82325937 0.83435348 0.83511859]\n"
     ]
    }
   ],
   "source": [
    "#Show all accuracies\n",
    "print(all_accuracies_can)"
   ]
  },
  {
   "cell_type": "code",
   "execution_count": 170,
   "id": "0b967a86",
   "metadata": {},
   "outputs": [
    {
     "name": "stdout",
     "output_type": "stream",
     "text": [
      "0.8332569002620103\n"
     ]
    }
   ],
   "source": [
    "print(all_accuracies_can.mean())"
   ]
  },
  {
   "cell_type": "code",
   "execution_count": 171,
   "id": "131cca8f",
   "metadata": {},
   "outputs": [
    {
     "name": "stdout",
     "output_type": "stream",
     "text": [
      "0.00511967112216197\n"
     ]
    }
   ],
   "source": [
    "print(all_accuracies_can.std())"
   ]
  },
  {
   "cell_type": "code",
   "execution_count": null,
   "id": "cef3e4f5",
   "metadata": {},
   "outputs": [],
   "source": []
  }
 ],
 "metadata": {
  "kernelspec": {
   "display_name": "Python 3 (ipykernel)",
   "language": "python",
   "name": "python3"
  },
  "language_info": {
   "codemirror_mode": {
    "name": "ipython",
    "version": 3
   },
   "file_extension": ".py",
   "mimetype": "text/x-python",
   "name": "python",
   "nbconvert_exporter": "python",
   "pygments_lexer": "ipython3",
   "version": "3.9.10"
  }
 },
 "nbformat": 4,
 "nbformat_minor": 5
}
